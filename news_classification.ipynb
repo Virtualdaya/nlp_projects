{
 "cells": [
  {
   "cell_type": "markdown",
   "id": "cf8da8c0-dc04-44ce-a376-cac35573e843",
   "metadata": {},
   "source": [
    "### Importing Modules"
   ]
  },
  {
   "cell_type": "code",
   "execution_count": 380,
   "id": "24dd1938-08d3-4efc-b82a-d076c700d812",
   "metadata": {},
   "outputs": [],
   "source": [
    "import numpy as np \n",
    "import pandas as pd\n",
    "import seaborn as sns\n",
    "import matplotlib.pyplot as plt\n",
    "import re\n",
    "import nltk\n",
    "from nltk.tokenize import word_tokenize\n",
    "from nltk.corpus import stopwords\n",
    "from nltk.stem import WordNetLemmatizer\n",
    "from gensim.models import Word2Vec\n",
    "from sklearn.model_selection import train_test_split\n",
    "from sklearn.feature_extraction.text import TfidfVectorizer\n",
    "from sklearn.naive_bayes import MultinomialNB\n",
    "from sklearn.metrics import accuracy_score, classification_report, confusion_matrix\n",
    "import torch\n",
    "import torch.nn as nn\n",
    "import torch.optim as optim\n",
    "from torch.utils.data import Dataset, DataLoader,Sampler\n",
    "from sklearn.model_selection import train_test_split\n",
    "from sklearn.preprocessing import LabelEncoder\n",
    "from tensorflow.keras.preprocessing.text import Tokenizer\n",
    "from tensorflow.keras.preprocessing.sequence import pad_sequences\n",
    "import random"
   ]
  },
  {
   "cell_type": "code",
   "execution_count": 381,
   "id": "29ded705-37f7-43a4-9326-f041b2baddbf",
   "metadata": {},
   "outputs": [
    {
     "data": {
      "text/plain": [
       "<torch._C.Generator at 0x18938beac90>"
      ]
     },
     "execution_count": 381,
     "metadata": {},
     "output_type": "execute_result"
    }
   ],
   "source": [
    "seed = 33\n",
    "random.seed(seed)\n",
    "np.random.seed(seed)\n",
    "torch.manual_seed(seed)"
   ]
  },
  {
   "cell_type": "code",
   "execution_count": 382,
   "id": "dd603f52-2d66-4760-bc61-278c0e3c1dc5",
   "metadata": {},
   "outputs": [
    {
     "name": "stderr",
     "output_type": "stream",
     "text": [
      "[nltk_data] Downloading package stopwords to\n",
      "[nltk_data]     C:\\Users\\anush\\AppData\\Roaming\\nltk_data...\n",
      "[nltk_data]   Package stopwords is already up-to-date!\n",
      "[nltk_data] Downloading package wordnet to\n",
      "[nltk_data]     C:\\Users\\anush\\AppData\\Roaming\\nltk_data...\n",
      "[nltk_data]   Package wordnet is already up-to-date!\n"
     ]
    },
    {
     "data": {
      "text/plain": [
       "True"
      ]
     },
     "execution_count": 382,
     "metadata": {},
     "output_type": "execute_result"
    }
   ],
   "source": [
    "nltk.download('stopwords')\n",
    "nltk.download('wordnet')"
   ]
  },
  {
   "cell_type": "markdown",
   "id": "c4061d45-7044-4cd3-9beb-f13191d77542",
   "metadata": {},
   "source": [
    "### Data Collection"
   ]
  },
  {
   "cell_type": "code",
   "execution_count": 383,
   "id": "e62567b7-fe20-488d-92c8-a4657605d5fe",
   "metadata": {},
   "outputs": [],
   "source": [
    "deccan_bus=pd.read_csv(r\"web_scraped_datasets\\deccan_bus.csv\")"
   ]
  },
  {
   "cell_type": "code",
   "execution_count": 384,
   "id": "b6c75e60-a0e0-4f22-9aa4-87ee18572849",
   "metadata": {},
   "outputs": [
    {
     "data": {
      "text/html": [
       "<div>\n",
       "<style scoped>\n",
       "    .dataframe tbody tr th:only-of-type {\n",
       "        vertical-align: middle;\n",
       "    }\n",
       "\n",
       "    .dataframe tbody tr th {\n",
       "        vertical-align: top;\n",
       "    }\n",
       "\n",
       "    .dataframe thead th {\n",
       "        text-align: right;\n",
       "    }\n",
       "</style>\n",
       "<table border=\"1\" class=\"dataframe\">\n",
       "  <thead>\n",
       "    <tr style=\"text-align: right;\">\n",
       "      <th></th>\n",
       "      <th>deccan_bus</th>\n",
       "    </tr>\n",
       "  </thead>\n",
       "  <tbody>\n",
       "    <tr>\n",
       "      <th>0</th>\n",
       "      <td>US reciprocal tariffs on India to have limited...</td>\n",
       "    </tr>\n",
       "    <tr>\n",
       "      <th>1</th>\n",
       "      <td>HAL and DIAT forge partnership for advancing a...</td>\n",
       "    </tr>\n",
       "    <tr>\n",
       "      <th>2</th>\n",
       "      <td>Google opens fourth office campus 'Ananta' in ...</td>\n",
       "    </tr>\n",
       "    <tr>\n",
       "      <th>3</th>\n",
       "      <td>Ola Electric renegotiates registration agency ...</td>\n",
       "    </tr>\n",
       "    <tr>\n",
       "      <th>4</th>\n",
       "      <td>Explained | How a Moscow-linked influence camp...</td>\n",
       "    </tr>\n",
       "  </tbody>\n",
       "</table>\n",
       "</div>"
      ],
      "text/plain": [
       "                                          deccan_bus\n",
       "0  US reciprocal tariffs on India to have limited...\n",
       "1  HAL and DIAT forge partnership for advancing a...\n",
       "2  Google opens fourth office campus 'Ananta' in ...\n",
       "3  Ola Electric renegotiates registration agency ...\n",
       "4  Explained | How a Moscow-linked influence camp..."
      ]
     },
     "execution_count": 384,
     "metadata": {},
     "output_type": "execute_result"
    }
   ],
   "source": [
    "deccan_bus.head()"
   ]
  },
  {
   "cell_type": "code",
   "execution_count": 385,
   "id": "b6ee81cd-fdc0-4c4d-bbc6-72b8616acb2a",
   "metadata": {},
   "outputs": [],
   "source": [
    "deccan_bus.rename(columns={'deccan_bus':'statement'},inplace=True)"
   ]
  },
  {
   "cell_type": "code",
   "execution_count": 386,
   "id": "543917ec-bcd9-4596-9086-23550b833e29",
   "metadata": {},
   "outputs": [
    {
     "data": {
      "text/plain": [
       "0"
      ]
     },
     "execution_count": 386,
     "metadata": {},
     "output_type": "execute_result"
    }
   ],
   "source": [
    "deccan_bus.duplicated().sum()"
   ]
  },
  {
   "cell_type": "code",
   "execution_count": 387,
   "id": "265729f1-334b-4a31-a685-f3041d693ceb",
   "metadata": {},
   "outputs": [],
   "source": [
    "express_bus=pd.read_csv(r\"web_scraped_datasets\\express_bus.csv\")"
   ]
  },
  {
   "cell_type": "code",
   "execution_count": 388,
   "id": "4dd5bae3-108e-4304-9dec-20d3c4792ce8",
   "metadata": {},
   "outputs": [
    {
     "data": {
      "text/html": [
       "<div>\n",
       "<style scoped>\n",
       "    .dataframe tbody tr th:only-of-type {\n",
       "        vertical-align: middle;\n",
       "    }\n",
       "\n",
       "    .dataframe tbody tr th {\n",
       "        vertical-align: top;\n",
       "    }\n",
       "\n",
       "    .dataframe thead th {\n",
       "        text-align: right;\n",
       "    }\n",
       "</style>\n",
       "<table border=\"1\" class=\"dataframe\">\n",
       "  <thead>\n",
       "    <tr style=\"text-align: right;\">\n",
       "      <th></th>\n",
       "      <th>express_bus</th>\n",
       "    </tr>\n",
       "  </thead>\n",
       "  <tbody>\n",
       "    <tr>\n",
       "      <th>0</th>\n",
       "      <td>Lifestyle purchases, online gaming, and dining...</td>\n",
       "    </tr>\n",
       "    <tr>\n",
       "      <th>1</th>\n",
       "      <td>Post-Covid demand plateaus, health premium gro...</td>\n",
       "    </tr>\n",
       "    <tr>\n",
       "      <th>2</th>\n",
       "      <td>Bharti Airtel promoter sells stake worth Rs 8,...</td>\n",
       "    </tr>\n",
       "    <tr>\n",
       "      <th>3</th>\n",
       "      <td>Profit-booking leading FIIs to sell; investmen...</td>\n",
       "    </tr>\n",
       "    <tr>\n",
       "      <th>4</th>\n",
       "      <td>Govt asks private insurers to extend free look...</td>\n",
       "    </tr>\n",
       "  </tbody>\n",
       "</table>\n",
       "</div>"
      ],
      "text/plain": [
       "                                         express_bus\n",
       "0  Lifestyle purchases, online gaming, and dining...\n",
       "1  Post-Covid demand plateaus, health premium gro...\n",
       "2  Bharti Airtel promoter sells stake worth Rs 8,...\n",
       "3  Profit-booking leading FIIs to sell; investmen...\n",
       "4  Govt asks private insurers to extend free look..."
      ]
     },
     "execution_count": 388,
     "metadata": {},
     "output_type": "execute_result"
    }
   ],
   "source": [
    "express_bus.head()"
   ]
  },
  {
   "cell_type": "code",
   "execution_count": 389,
   "id": "19c79b63-6d78-4be1-b9bc-de28b75b9ab7",
   "metadata": {},
   "outputs": [],
   "source": [
    "express_bus.rename(columns={'express_bus':'statement'},inplace=True)"
   ]
  },
  {
   "cell_type": "code",
   "execution_count": 390,
   "id": "2cbbe206-0945-4b55-9dba-aae2ce561d8c",
   "metadata": {},
   "outputs": [
    {
     "data": {
      "text/plain": [
       "7"
      ]
     },
     "execution_count": 390,
     "metadata": {},
     "output_type": "execute_result"
    }
   ],
   "source": [
    "express_bus.duplicated().sum()"
   ]
  },
  {
   "cell_type": "code",
   "execution_count": 391,
   "id": "3d6da6fb-b32b-4d4c-bf9c-ddc45aad140c",
   "metadata": {},
   "outputs": [],
   "source": [
    "express_bus.drop_duplicates(inplace=True)"
   ]
  },
  {
   "cell_type": "code",
   "execution_count": 392,
   "id": "5a7569aa-0ec5-404b-ade7-4bcd4c348398",
   "metadata": {},
   "outputs": [],
   "source": [
    "hindu_bus=pd.read_csv(r\"web_scraped_datasets\\hindu_bus.csv\")"
   ]
  },
  {
   "cell_type": "code",
   "execution_count": 393,
   "id": "0d6ab382-0167-4fed-81e1-c0dfe268ca8b",
   "metadata": {},
   "outputs": [
    {
     "data": {
      "text/html": [
       "<div>\n",
       "<style scoped>\n",
       "    .dataframe tbody tr th:only-of-type {\n",
       "        vertical-align: middle;\n",
       "    }\n",
       "\n",
       "    .dataframe tbody tr th {\n",
       "        vertical-align: top;\n",
       "    }\n",
       "\n",
       "    .dataframe thead th {\n",
       "        text-align: right;\n",
       "    }\n",
       "</style>\n",
       "<table border=\"1\" class=\"dataframe\">\n",
       "  <thead>\n",
       "    <tr style=\"text-align: right;\">\n",
       "      <th></th>\n",
       "      <th>hindu_bus</th>\n",
       "    </tr>\n",
       "  </thead>\n",
       "  <tbody>\n",
       "    <tr>\n",
       "      <th>0</th>\n",
       "      <td>Toyota opens bookings for Land Cruiser 300 wit...</td>\n",
       "    </tr>\n",
       "    <tr>\n",
       "      <th>1</th>\n",
       "      <td>SBI pegs India’s Q3FY25 GDP growth at 6.2%-6.3%</td>\n",
       "    </tr>\n",
       "    <tr>\n",
       "      <th>2</th>\n",
       "      <td>Tesla starts recruitment in India, sends signa...</td>\n",
       "    </tr>\n",
       "    <tr>\n",
       "      <th>3</th>\n",
       "      <td>Slight dip in unemployment rate in urban areas...</td>\n",
       "    </tr>\n",
       "    <tr>\n",
       "      <th>4</th>\n",
       "      <td>Sensex, Nifty end marginally lower amid volati...</td>\n",
       "    </tr>\n",
       "  </tbody>\n",
       "</table>\n",
       "</div>"
      ],
      "text/plain": [
       "                                           hindu_bus\n",
       "0  Toyota opens bookings for Land Cruiser 300 wit...\n",
       "1    SBI pegs India’s Q3FY25 GDP growth at 6.2%-6.3%\n",
       "2  Tesla starts recruitment in India, sends signa...\n",
       "3  Slight dip in unemployment rate in urban areas...\n",
       "4  Sensex, Nifty end marginally lower amid volati..."
      ]
     },
     "execution_count": 393,
     "metadata": {},
     "output_type": "execute_result"
    }
   ],
   "source": [
    "hindu_bus.head()"
   ]
  },
  {
   "cell_type": "code",
   "execution_count": 394,
   "id": "ae05ece6-0595-4983-b35a-77a4351f76d9",
   "metadata": {},
   "outputs": [],
   "source": [
    "hindu_bus.rename(columns={'hindu_bus':'statement'},inplace=True)"
   ]
  },
  {
   "cell_type": "code",
   "execution_count": 395,
   "id": "55bf2865-177d-4e78-984d-34e964530d94",
   "metadata": {},
   "outputs": [
    {
     "data": {
      "text/plain": [
       "2"
      ]
     },
     "execution_count": 395,
     "metadata": {},
     "output_type": "execute_result"
    }
   ],
   "source": [
    "hindu_bus.duplicated().sum()"
   ]
  },
  {
   "cell_type": "code",
   "execution_count": 396,
   "id": "7a62f6b6-0368-4f53-a219-392af2e628b4",
   "metadata": {},
   "outputs": [],
   "source": [
    "hindu_bus.drop_duplicates(inplace=True)"
   ]
  },
  {
   "cell_type": "code",
   "execution_count": 397,
   "id": "3b7d79a9-a52f-4f3f-8ead-d474a65db2c0",
   "metadata": {},
   "outputs": [],
   "source": [
    "hindusthan_bus=pd.read_csv(r\"web_scraped_datasets\\hindusthan_bus.csv\")"
   ]
  },
  {
   "cell_type": "code",
   "execution_count": 398,
   "id": "ac1c87e9-5039-4e01-b9fd-7fc70ba34737",
   "metadata": {},
   "outputs": [
    {
     "data": {
      "text/html": [
       "<div>\n",
       "<style scoped>\n",
       "    .dataframe tbody tr th:only-of-type {\n",
       "        vertical-align: middle;\n",
       "    }\n",
       "\n",
       "    .dataframe tbody tr th {\n",
       "        vertical-align: top;\n",
       "    }\n",
       "\n",
       "    .dataframe thead th {\n",
       "        text-align: right;\n",
       "    }\n",
       "</style>\n",
       "<table border=\"1\" class=\"dataframe\">\n",
       "  <thead>\n",
       "    <tr style=\"text-align: right;\">\n",
       "      <th></th>\n",
       "      <th>hindusthan_bus</th>\n",
       "    </tr>\n",
       "  </thead>\n",
       "  <tbody>\n",
       "    <tr>\n",
       "      <th>0</th>\n",
       "      <td>Infosys says it didn't use force or intimidate...</td>\n",
       "    </tr>\n",
       "    <tr>\n",
       "      <th>1</th>\n",
       "      <td>Inside ‘Ananta’: Google’s mega Bengaluru campu...</td>\n",
       "    </tr>\n",
       "    <tr>\n",
       "      <th>2</th>\n",
       "      <td>Bumble shares slide after weak forecast signal...</td>\n",
       "    </tr>\n",
       "    <tr>\n",
       "      <th>3</th>\n",
       "      <td>Google to pay ₹3,000 crore to settle case over...</td>\n",
       "    </tr>\n",
       "    <tr>\n",
       "      <th>4</th>\n",
       "      <td>Tesla hiring in India: After Mumbai, Musk's co...</td>\n",
       "    </tr>\n",
       "  </tbody>\n",
       "</table>\n",
       "</div>"
      ],
      "text/plain": [
       "                                      hindusthan_bus\n",
       "0  Infosys says it didn't use force or intimidate...\n",
       "1  Inside ‘Ananta’: Google’s mega Bengaluru campu...\n",
       "2  Bumble shares slide after weak forecast signal...\n",
       "3  Google to pay ₹3,000 crore to settle case over...\n",
       "4  Tesla hiring in India: After Mumbai, Musk's co..."
      ]
     },
     "execution_count": 398,
     "metadata": {},
     "output_type": "execute_result"
    }
   ],
   "source": [
    "hindusthan_bus.head()"
   ]
  },
  {
   "cell_type": "code",
   "execution_count": 399,
   "id": "3a22b30b-a43b-4b5b-8ceb-1aedd8bd3ec3",
   "metadata": {},
   "outputs": [],
   "source": [
    "hindusthan_bus.rename(columns={'hindusthan_bus':'statement'},inplace=True)"
   ]
  },
  {
   "cell_type": "code",
   "execution_count": 400,
   "id": "3259f350-abd1-42ad-9831-33dc7c0d2c7a",
   "metadata": {},
   "outputs": [
    {
     "data": {
      "text/plain": [
       "0"
      ]
     },
     "execution_count": 400,
     "metadata": {},
     "output_type": "execute_result"
    }
   ],
   "source": [
    "hindusthan_bus.duplicated().sum()"
   ]
  },
  {
   "cell_type": "code",
   "execution_count": 401,
   "id": "54a73d75-e5fa-41cf-a9e7-81b3c40dfad2",
   "metadata": {},
   "outputs": [],
   "source": [
    "india_bus=pd.read_csv(r\"web_scraped_datasets\\india_bus.csv\")"
   ]
  },
  {
   "cell_type": "code",
   "execution_count": 402,
   "id": "ab9a1718-11c5-4133-96d7-e0c4946e8862",
   "metadata": {},
   "outputs": [
    {
     "data": {
      "text/html": [
       "<div>\n",
       "<style scoped>\n",
       "    .dataframe tbody tr th:only-of-type {\n",
       "        vertical-align: middle;\n",
       "    }\n",
       "\n",
       "    .dataframe tbody tr th {\n",
       "        vertical-align: top;\n",
       "    }\n",
       "\n",
       "    .dataframe thead th {\n",
       "        text-align: right;\n",
       "    }\n",
       "</style>\n",
       "<table border=\"1\" class=\"dataframe\">\n",
       "  <thead>\n",
       "    <tr style=\"text-align: right;\">\n",
       "      <th></th>\n",
       "      <th>india_bus</th>\n",
       "    </tr>\n",
       "  </thead>\n",
       "  <tbody>\n",
       "    <tr>\n",
       "      <th>0</th>\n",
       "      <td>These well-known multibaggers are down over 50...</td>\n",
       "    </tr>\n",
       "    <tr>\n",
       "      <th>1</th>\n",
       "      <td>JBM Auto shares close higher on Rs 5,500-crore...</td>\n",
       "    </tr>\n",
       "    <tr>\n",
       "      <th>2</th>\n",
       "      <td>Data Patterns shares hit 52-week low, rebound ...</td>\n",
       "    </tr>\n",
       "    <tr>\n",
       "      <th>3</th>\n",
       "      <td>Inox Wind shares slip 35% from record high, ti...</td>\n",
       "    </tr>\n",
       "    <tr>\n",
       "      <th>4</th>\n",
       "      <td>RVNL, Jupiter Wagons, IRCTC, Titagarh Rail sha...</td>\n",
       "    </tr>\n",
       "  </tbody>\n",
       "</table>\n",
       "</div>"
      ],
      "text/plain": [
       "                                           india_bus\n",
       "0  These well-known multibaggers are down over 50...\n",
       "1  JBM Auto shares close higher on Rs 5,500-crore...\n",
       "2  Data Patterns shares hit 52-week low, rebound ...\n",
       "3  Inox Wind shares slip 35% from record high, ti...\n",
       "4  RVNL, Jupiter Wagons, IRCTC, Titagarh Rail sha..."
      ]
     },
     "execution_count": 402,
     "metadata": {},
     "output_type": "execute_result"
    }
   ],
   "source": [
    "india_bus.head()"
   ]
  },
  {
   "cell_type": "code",
   "execution_count": 403,
   "id": "ac094478-a1d7-4f4c-b7a9-8fcfcb13b716",
   "metadata": {},
   "outputs": [
    {
     "data": {
      "text/plain": [
       "0"
      ]
     },
     "execution_count": 403,
     "metadata": {},
     "output_type": "execute_result"
    }
   ],
   "source": [
    "india_bus.duplicated().sum()"
   ]
  },
  {
   "cell_type": "code",
   "execution_count": 404,
   "id": "87842fbe-5a86-4866-9b0b-a4ace73021d6",
   "metadata": {},
   "outputs": [],
   "source": [
    "india_bus.rename(columns={'india_bus':'statement'},inplace=True)"
   ]
  },
  {
   "cell_type": "code",
   "execution_count": 405,
   "id": "2d28c284-176a-4416-9144-4c32b48a187a",
   "metadata": {},
   "outputs": [],
   "source": [
    "ndtv_bus=pd.read_csv(r\"web_scraped_datasets\\ndtv_bus.csv\")"
   ]
  },
  {
   "cell_type": "code",
   "execution_count": 406,
   "id": "0c036875-ba5d-40cb-9f71-8f3b209315b2",
   "metadata": {},
   "outputs": [
    {
     "data": {
      "text/html": [
       "<div>\n",
       "<style scoped>\n",
       "    .dataframe tbody tr th:only-of-type {\n",
       "        vertical-align: middle;\n",
       "    }\n",
       "\n",
       "    .dataframe tbody tr th {\n",
       "        vertical-align: top;\n",
       "    }\n",
       "\n",
       "    .dataframe thead th {\n",
       "        text-align: right;\n",
       "    }\n",
       "</style>\n",
       "<table border=\"1\" class=\"dataframe\">\n",
       "  <thead>\n",
       "    <tr style=\"text-align: right;\">\n",
       "      <th></th>\n",
       "      <th>ndtv_bus</th>\n",
       "    </tr>\n",
       "  </thead>\n",
       "  <tbody>\n",
       "    <tr>\n",
       "      <th>0</th>\n",
       "      <td>Trade Setup For Feb. 20: Nifty Steady Within R...</td>\n",
       "    </tr>\n",
       "    <tr>\n",
       "      <th>1</th>\n",
       "      <td>Trade Setup For Feb. 20: Nifty Steady Within R...</td>\n",
       "    </tr>\n",
       "    <tr>\n",
       "      <th>2</th>\n",
       "      <td>Google Expands In India, Opens New Office I...</td>\n",
       "    </tr>\n",
       "    <tr>\n",
       "      <th>3</th>\n",
       "      <td>Business Travelers, Peak Hour Flyers May Ha...</td>\n",
       "    </tr>\n",
       "    <tr>\n",
       "      <th>4</th>\n",
       "      <td>NC-JCM Seeks Uniform Fitment Factor Across ...</td>\n",
       "    </tr>\n",
       "  </tbody>\n",
       "</table>\n",
       "</div>"
      ],
      "text/plain": [
       "                                            ndtv_bus\n",
       "0  Trade Setup For Feb. 20: Nifty Steady Within R...\n",
       "1  Trade Setup For Feb. 20: Nifty Steady Within R...\n",
       "2     Google Expands In India, Opens New Office I...\n",
       "3     Business Travelers, Peak Hour Flyers May Ha...\n",
       "4     NC-JCM Seeks Uniform Fitment Factor Across ..."
      ]
     },
     "execution_count": 406,
     "metadata": {},
     "output_type": "execute_result"
    }
   ],
   "source": [
    "ndtv_bus.head()"
   ]
  },
  {
   "cell_type": "code",
   "execution_count": 407,
   "id": "9a581a1e-231c-45e6-b797-cd3bbfcd3a7f",
   "metadata": {},
   "outputs": [
    {
     "data": {
      "text/plain": [
       "7"
      ]
     },
     "execution_count": 407,
     "metadata": {},
     "output_type": "execute_result"
    }
   ],
   "source": [
    "ndtv_bus.duplicated().sum()"
   ]
  },
  {
   "cell_type": "code",
   "execution_count": 408,
   "id": "da4de112-daa2-4692-a021-4e0f7052359e",
   "metadata": {},
   "outputs": [],
   "source": [
    "ndtv_bus.drop_duplicates(inplace=True)"
   ]
  },
  {
   "cell_type": "code",
   "execution_count": 409,
   "id": "a65ac902-8a06-48ad-a79f-cdb79e9aa443",
   "metadata": {},
   "outputs": [],
   "source": [
    "ndtv_bus.rename(columns={'ndtv_bus':'statement'},inplace=True)"
   ]
  },
  {
   "cell_type": "code",
   "execution_count": 410,
   "id": "57cb47fc-fd6f-4a33-8d55-49cd342ddf47",
   "metadata": {},
   "outputs": [],
   "source": [
    "tof_bus=pd.read_csv(r\"web_scraped_datasets\\tof_bus.csv\")"
   ]
  },
  {
   "cell_type": "code",
   "execution_count": 411,
   "id": "c07b0a7d-e364-462b-96fe-eef40f139b6e",
   "metadata": {},
   "outputs": [
    {
     "data": {
      "text/html": [
       "<div>\n",
       "<style scoped>\n",
       "    .dataframe tbody tr th:only-of-type {\n",
       "        vertical-align: middle;\n",
       "    }\n",
       "\n",
       "    .dataframe tbody tr th {\n",
       "        vertical-align: top;\n",
       "    }\n",
       "\n",
       "    .dataframe thead th {\n",
       "        text-align: right;\n",
       "    }\n",
       "</style>\n",
       "<table border=\"1\" class=\"dataframe\">\n",
       "  <thead>\n",
       "    <tr style=\"text-align: right;\">\n",
       "      <th></th>\n",
       "      <th>tof_bus</th>\n",
       "    </tr>\n",
       "  </thead>\n",
       "  <tbody>\n",
       "    <tr>\n",
       "      <th>0</th>\n",
       "      <td>What is LIC Smart Pension Plan? Top 10 FAQs an...</td>\n",
       "    </tr>\n",
       "    <tr>\n",
       "      <th>1</th>\n",
       "      <td>PM Modi US visit: 1+1 = 11 - US and India team...</td>\n",
       "    </tr>\n",
       "    <tr>\n",
       "      <th>2</th>\n",
       "      <td>Tesla India entry: Why Donald Trump has said i...</td>\n",
       "    </tr>\n",
       "    <tr>\n",
       "      <th>3</th>\n",
       "      <td>Boost for ‘Make in India’! iPhone parts maker ...</td>\n",
       "    </tr>\n",
       "    <tr>\n",
       "      <th>4</th>\n",
       "      <td>'More of white noise': Why Trump’s reciprocal ...</td>\n",
       "    </tr>\n",
       "  </tbody>\n",
       "</table>\n",
       "</div>"
      ],
      "text/plain": [
       "                                             tof_bus\n",
       "0  What is LIC Smart Pension Plan? Top 10 FAQs an...\n",
       "1  PM Modi US visit: 1+1 = 11 - US and India team...\n",
       "2  Tesla India entry: Why Donald Trump has said i...\n",
       "3  Boost for ‘Make in India’! iPhone parts maker ...\n",
       "4  'More of white noise': Why Trump’s reciprocal ..."
      ]
     },
     "execution_count": 411,
     "metadata": {},
     "output_type": "execute_result"
    }
   ],
   "source": [
    "tof_bus.head()"
   ]
  },
  {
   "cell_type": "code",
   "execution_count": 412,
   "id": "527dcaab-afcb-478c-9baa-97ae6f40b5ef",
   "metadata": {},
   "outputs": [],
   "source": [
    "tof_bus.rename(columns={'tof_bus':'statement'},inplace=True)"
   ]
  },
  {
   "cell_type": "code",
   "execution_count": 413,
   "id": "e07778d2-c385-4b02-a07b-27d28bf6e81f",
   "metadata": {},
   "outputs": [
    {
     "data": {
      "text/plain": [
       "18"
      ]
     },
     "execution_count": 413,
     "metadata": {},
     "output_type": "execute_result"
    }
   ],
   "source": [
    "tof_bus.duplicated().sum()"
   ]
  },
  {
   "cell_type": "code",
   "execution_count": 414,
   "id": "726fa069-b1b5-4c78-85ee-d88c5b9de655",
   "metadata": {},
   "outputs": [],
   "source": [
    "tof_bus.drop_duplicates(inplace=True)"
   ]
  },
  {
   "cell_type": "code",
   "execution_count": 415,
   "id": "d1010e7b-8214-48c7-9c68-397ff32c2803",
   "metadata": {},
   "outputs": [],
   "source": [
    "df_bus=pd.concat([deccan_bus,express_bus,hindu_bus,hindusthan_bus,india_bus,ndtv_bus,tof_bus],axis=0)"
   ]
  },
  {
   "cell_type": "code",
   "execution_count": 416,
   "id": "3b821022-4cc8-47e5-b976-a572a3e2ead4",
   "metadata": {},
   "outputs": [
    {
     "data": {
      "text/html": [
       "<div>\n",
       "<style scoped>\n",
       "    .dataframe tbody tr th:only-of-type {\n",
       "        vertical-align: middle;\n",
       "    }\n",
       "\n",
       "    .dataframe tbody tr th {\n",
       "        vertical-align: top;\n",
       "    }\n",
       "\n",
       "    .dataframe thead th {\n",
       "        text-align: right;\n",
       "    }\n",
       "</style>\n",
       "<table border=\"1\" class=\"dataframe\">\n",
       "  <thead>\n",
       "    <tr style=\"text-align: right;\">\n",
       "      <th></th>\n",
       "      <th>statement</th>\n",
       "    </tr>\n",
       "  </thead>\n",
       "  <tbody>\n",
       "    <tr>\n",
       "      <th>0</th>\n",
       "      <td>US reciprocal tariffs on India to have limited...</td>\n",
       "    </tr>\n",
       "    <tr>\n",
       "      <th>1</th>\n",
       "      <td>HAL and DIAT forge partnership for advancing a...</td>\n",
       "    </tr>\n",
       "    <tr>\n",
       "      <th>2</th>\n",
       "      <td>Google opens fourth office campus 'Ananta' in ...</td>\n",
       "    </tr>\n",
       "    <tr>\n",
       "      <th>3</th>\n",
       "      <td>Ola Electric renegotiates registration agency ...</td>\n",
       "    </tr>\n",
       "    <tr>\n",
       "      <th>4</th>\n",
       "      <td>Explained | How a Moscow-linked influence camp...</td>\n",
       "    </tr>\n",
       "    <tr>\n",
       "      <th>...</th>\n",
       "      <td>...</td>\n",
       "    </tr>\n",
       "    <tr>\n",
       "      <th>166</th>\n",
       "      <td>Tatas to inject Rs 500 crore in Mumbai's Breac...</td>\n",
       "    </tr>\n",
       "    <tr>\n",
       "      <th>167</th>\n",
       "      <td>High liquidity costs limit rate cut impact: Ax...</td>\n",
       "    </tr>\n",
       "    <tr>\n",
       "      <th>168</th>\n",
       "      <td>Cognizant hits back, says Infosys deflecting a...</td>\n",
       "    </tr>\n",
       "    <tr>\n",
       "      <th>169</th>\n",
       "      <td>Sebi de-registers 19 defunct foreign VCs, says...</td>\n",
       "    </tr>\n",
       "    <tr>\n",
       "      <th>170</th>\n",
       "      <td>Vedanta gets creditors' approval for demerger</td>\n",
       "    </tr>\n",
       "  </tbody>\n",
       "</table>\n",
       "<p>277 rows × 1 columns</p>\n",
       "</div>"
      ],
      "text/plain": [
       "                                             statement\n",
       "0    US reciprocal tariffs on India to have limited...\n",
       "1    HAL and DIAT forge partnership for advancing a...\n",
       "2    Google opens fourth office campus 'Ananta' in ...\n",
       "3    Ola Electric renegotiates registration agency ...\n",
       "4    Explained | How a Moscow-linked influence camp...\n",
       "..                                                 ...\n",
       "166  Tatas to inject Rs 500 crore in Mumbai's Breac...\n",
       "167  High liquidity costs limit rate cut impact: Ax...\n",
       "168  Cognizant hits back, says Infosys deflecting a...\n",
       "169  Sebi de-registers 19 defunct foreign VCs, says...\n",
       "170      Vedanta gets creditors' approval for demerger\n",
       "\n",
       "[277 rows x 1 columns]"
      ]
     },
     "execution_count": 416,
     "metadata": {},
     "output_type": "execute_result"
    }
   ],
   "source": [
    "df_bus"
   ]
  },
  {
   "cell_type": "code",
   "execution_count": 417,
   "id": "0bc11ee3-802c-4a95-8757-e068a3875dac",
   "metadata": {},
   "outputs": [],
   "source": [
    "df_bus.reset_index(drop=True,inplace=True)"
   ]
  },
  {
   "cell_type": "code",
   "execution_count": 418,
   "id": "2bf3bcf2-a2a5-4528-a239-20c49d253882",
   "metadata": {},
   "outputs": [
    {
     "data": {
      "text/plain": [
       "(277, 1)"
      ]
     },
     "execution_count": 418,
     "metadata": {},
     "output_type": "execute_result"
    }
   ],
   "source": [
    "df_bus.shape"
   ]
  },
  {
   "cell_type": "code",
   "execution_count": 419,
   "id": "a398af84-6dde-45d2-a0e8-324ae266085e",
   "metadata": {},
   "outputs": [],
   "source": [
    "df_bus['label']='business'"
   ]
  },
  {
   "cell_type": "code",
   "execution_count": 420,
   "id": "9e558ed9-9d82-487c-a561-49e6f791cf19",
   "metadata": {},
   "outputs": [
    {
     "data": {
      "text/html": [
       "<div>\n",
       "<style scoped>\n",
       "    .dataframe tbody tr th:only-of-type {\n",
       "        vertical-align: middle;\n",
       "    }\n",
       "\n",
       "    .dataframe tbody tr th {\n",
       "        vertical-align: top;\n",
       "    }\n",
       "\n",
       "    .dataframe thead th {\n",
       "        text-align: right;\n",
       "    }\n",
       "</style>\n",
       "<table border=\"1\" class=\"dataframe\">\n",
       "  <thead>\n",
       "    <tr style=\"text-align: right;\">\n",
       "      <th></th>\n",
       "      <th>statement</th>\n",
       "      <th>label</th>\n",
       "    </tr>\n",
       "  </thead>\n",
       "  <tbody>\n",
       "    <tr>\n",
       "      <th>0</th>\n",
       "      <td>US reciprocal tariffs on India to have limited...</td>\n",
       "      <td>business</td>\n",
       "    </tr>\n",
       "    <tr>\n",
       "      <th>1</th>\n",
       "      <td>HAL and DIAT forge partnership for advancing a...</td>\n",
       "      <td>business</td>\n",
       "    </tr>\n",
       "    <tr>\n",
       "      <th>2</th>\n",
       "      <td>Google opens fourth office campus 'Ananta' in ...</td>\n",
       "      <td>business</td>\n",
       "    </tr>\n",
       "    <tr>\n",
       "      <th>3</th>\n",
       "      <td>Ola Electric renegotiates registration agency ...</td>\n",
       "      <td>business</td>\n",
       "    </tr>\n",
       "    <tr>\n",
       "      <th>4</th>\n",
       "      <td>Explained | How a Moscow-linked influence camp...</td>\n",
       "      <td>business</td>\n",
       "    </tr>\n",
       "  </tbody>\n",
       "</table>\n",
       "</div>"
      ],
      "text/plain": [
       "                                           statement     label\n",
       "0  US reciprocal tariffs on India to have limited...  business\n",
       "1  HAL and DIAT forge partnership for advancing a...  business\n",
       "2  Google opens fourth office campus 'Ananta' in ...  business\n",
       "3  Ola Electric renegotiates registration agency ...  business\n",
       "4  Explained | How a Moscow-linked influence camp...  business"
      ]
     },
     "execution_count": 420,
     "metadata": {},
     "output_type": "execute_result"
    }
   ],
   "source": [
    "df_bus.head()"
   ]
  },
  {
   "cell_type": "markdown",
   "id": "7bdc7e56-69d3-4595-bb32-1a783f865f45",
   "metadata": {},
   "source": [
    "# "
   ]
  },
  {
   "cell_type": "code",
   "execution_count": 421,
   "id": "310b8af6-c437-4c1a-b6c0-64f10a970ad4",
   "metadata": {},
   "outputs": [],
   "source": [
    "deccan_enter=pd.read_csv(r\"web_scraped_datasets\\deccan_enter.csv\")"
   ]
  },
  {
   "cell_type": "code",
   "execution_count": 422,
   "id": "c4de9524-1e0a-4b79-a541-6c396ba28622",
   "metadata": {},
   "outputs": [
    {
     "data": {
      "text/html": [
       "<div>\n",
       "<style scoped>\n",
       "    .dataframe tbody tr th:only-of-type {\n",
       "        vertical-align: middle;\n",
       "    }\n",
       "\n",
       "    .dataframe tbody tr th {\n",
       "        vertical-align: top;\n",
       "    }\n",
       "\n",
       "    .dataframe thead th {\n",
       "        text-align: right;\n",
       "    }\n",
       "</style>\n",
       "<table border=\"1\" class=\"dataframe\">\n",
       "  <thead>\n",
       "    <tr style=\"text-align: right;\">\n",
       "      <th></th>\n",
       "      <th>deccan_enter</th>\n",
       "    </tr>\n",
       "  </thead>\n",
       "  <tbody>\n",
       "    <tr>\n",
       "      <th>0</th>\n",
       "      <td>Leaking pipeline in 'Mrs' a metaphor for patri...</td>\n",
       "    </tr>\n",
       "    <tr>\n",
       "      <th>1</th>\n",
       "      <td>Richa Chadha, Ali Fazal board queer drama 'TAP...</td>\n",
       "    </tr>\n",
       "    <tr>\n",
       "      <th>2</th>\n",
       "      <td>Shweta Tripathi to turn producer, says she fee...</td>\n",
       "    </tr>\n",
       "    <tr>\n",
       "      <th>3</th>\n",
       "      <td>Comedy is an important genre for family audien...</td>\n",
       "    </tr>\n",
       "  </tbody>\n",
       "</table>\n",
       "</div>"
      ],
      "text/plain": [
       "                                        deccan_enter\n",
       "0  Leaking pipeline in 'Mrs' a metaphor for patri...\n",
       "1  Richa Chadha, Ali Fazal board queer drama 'TAP...\n",
       "2  Shweta Tripathi to turn producer, says she fee...\n",
       "3  Comedy is an important genre for family audien..."
      ]
     },
     "execution_count": 422,
     "metadata": {},
     "output_type": "execute_result"
    }
   ],
   "source": [
    "deccan_enter.head()"
   ]
  },
  {
   "cell_type": "code",
   "execution_count": 423,
   "id": "cb7dcebc-77e7-4227-a228-3e5ae83c2f68",
   "metadata": {},
   "outputs": [
    {
     "data": {
      "text/plain": [
       "0"
      ]
     },
     "execution_count": 423,
     "metadata": {},
     "output_type": "execute_result"
    }
   ],
   "source": [
    "deccan_enter.duplicated().sum()"
   ]
  },
  {
   "cell_type": "code",
   "execution_count": 424,
   "id": "00d45b6e-274b-4711-b768-04334fdf67fe",
   "metadata": {},
   "outputs": [],
   "source": [
    "deccan_enter.rename(columns={'deccan_enter':'statement'},inplace=True)"
   ]
  },
  {
   "cell_type": "code",
   "execution_count": 425,
   "id": "3e63c53e-f47d-494b-9cb2-3dc230c5f44a",
   "metadata": {},
   "outputs": [],
   "source": [
    "express_enter=pd.read_csv(r\"web_scraped_datasets\\express_enter.csv\")"
   ]
  },
  {
   "cell_type": "code",
   "execution_count": 426,
   "id": "3709d812-34b1-47d7-ae41-e412c05a9dde",
   "metadata": {},
   "outputs": [
    {
     "data": {
      "text/html": [
       "<div>\n",
       "<style scoped>\n",
       "    .dataframe tbody tr th:only-of-type {\n",
       "        vertical-align: middle;\n",
       "    }\n",
       "\n",
       "    .dataframe tbody tr th {\n",
       "        vertical-align: top;\n",
       "    }\n",
       "\n",
       "    .dataframe thead th {\n",
       "        text-align: right;\n",
       "    }\n",
       "</style>\n",
       "<table border=\"1\" class=\"dataframe\">\n",
       "  <thead>\n",
       "    <tr style=\"text-align: right;\">\n",
       "      <th></th>\n",
       "      <th>express_enter</th>\n",
       "    </tr>\n",
       "  </thead>\n",
       "  <tbody>\n",
       "    <tr>\n",
       "      <th>0</th>\n",
       "      <td>Marco: Unni Mukundan's reprehensible film ruin...</td>\n",
       "    </tr>\n",
       "    <tr>\n",
       "      <th>1</th>\n",
       "      <td>Bada Naam Karenge: Sooraj Barjatya acknowledge...</td>\n",
       "    </tr>\n",
       "    <tr>\n",
       "      <th>2</th>\n",
       "      <td>Chhaava box office Day 5: Vicky Kaushal's bloc...</td>\n",
       "    </tr>\n",
       "    <tr>\n",
       "      <th>3</th>\n",
       "      <td>Karan Johar on 35 years of Agneepath, remaking...</td>\n",
       "    </tr>\n",
       "    <tr>\n",
       "      <th>4</th>\n",
       "      <td>Arm-twisting, blacklisting, and mud-slinging: ...</td>\n",
       "    </tr>\n",
       "  </tbody>\n",
       "</table>\n",
       "</div>"
      ],
      "text/plain": [
       "                                       express_enter\n",
       "0  Marco: Unni Mukundan's reprehensible film ruin...\n",
       "1  Bada Naam Karenge: Sooraj Barjatya acknowledge...\n",
       "2  Chhaava box office Day 5: Vicky Kaushal's bloc...\n",
       "3  Karan Johar on 35 years of Agneepath, remaking...\n",
       "4  Arm-twisting, blacklisting, and mud-slinging: ..."
      ]
     },
     "execution_count": 426,
     "metadata": {},
     "output_type": "execute_result"
    }
   ],
   "source": [
    "express_enter.head()"
   ]
  },
  {
   "cell_type": "code",
   "execution_count": 427,
   "id": "e4628a21-55be-4b0e-9d96-d9862ea9b51d",
   "metadata": {},
   "outputs": [
    {
     "data": {
      "text/plain": [
       "2"
      ]
     },
     "execution_count": 427,
     "metadata": {},
     "output_type": "execute_result"
    }
   ],
   "source": [
    "express_enter.duplicated().sum()"
   ]
  },
  {
   "cell_type": "code",
   "execution_count": 428,
   "id": "9284983f-393e-485a-ac85-b7e0d3f1e052",
   "metadata": {},
   "outputs": [],
   "source": [
    "express_enter.drop_duplicates(inplace=True)"
   ]
  },
  {
   "cell_type": "code",
   "execution_count": 429,
   "id": "4940c201-a7b5-4679-b5ce-b5990c2625dc",
   "metadata": {},
   "outputs": [],
   "source": [
    "express_enter.rename(columns={'express_enter':'statement'},inplace=True)"
   ]
  },
  {
   "cell_type": "code",
   "execution_count": 430,
   "id": "1c2a1b36-43d8-4c9e-8426-97bf1f080f7c",
   "metadata": {},
   "outputs": [],
   "source": [
    "hindu_enter=pd.read_csv(r\"web_scraped_datasets\\hindu_enter.csv\")"
   ]
  },
  {
   "cell_type": "code",
   "execution_count": 431,
   "id": "bba33d21-6a8e-4425-87aa-6046bc40cdb7",
   "metadata": {},
   "outputs": [
    {
     "data": {
      "text/html": [
       "<div>\n",
       "<style scoped>\n",
       "    .dataframe tbody tr th:only-of-type {\n",
       "        vertical-align: middle;\n",
       "    }\n",
       "\n",
       "    .dataframe tbody tr th {\n",
       "        vertical-align: top;\n",
       "    }\n",
       "\n",
       "    .dataframe thead th {\n",
       "        text-align: right;\n",
       "    }\n",
       "</style>\n",
       "<table border=\"1\" class=\"dataframe\">\n",
       "  <thead>\n",
       "    <tr style=\"text-align: right;\">\n",
       "      <th></th>\n",
       "      <th>hindu_enter</th>\n",
       "    </tr>\n",
       "  </thead>\n",
       "  <tbody>\n",
       "    <tr>\n",
       "      <th>0</th>\n",
       "      <td>Director Varsha Bharath on what it takes to be...</td>\n",
       "    </tr>\n",
       "    <tr>\n",
       "      <th>1</th>\n",
       "      <td>‘Understatement to say I am overwhelmed,’ says...</td>\n",
       "    </tr>\n",
       "    <tr>\n",
       "      <th>2</th>\n",
       "      <td>‘Chhaava’ movie review: Vicky Kaushal, Akshaye...</td>\n",
       "    </tr>\n",
       "    <tr>\n",
       "      <th>3</th>\n",
       "      <td>‘Captain America: Brave New World’ movie revie...</td>\n",
       "    </tr>\n",
       "    <tr>\n",
       "      <th>4</th>\n",
       "      <td>‘Captain America: Brave New World’ movie revie...</td>\n",
       "    </tr>\n",
       "  </tbody>\n",
       "</table>\n",
       "</div>"
      ],
      "text/plain": [
       "                                         hindu_enter\n",
       "0  Director Varsha Bharath on what it takes to be...\n",
       "1  ‘Understatement to say I am overwhelmed,’ says...\n",
       "2  ‘Chhaava’ movie review: Vicky Kaushal, Akshaye...\n",
       "3  ‘Captain America: Brave New World’ movie revie...\n",
       "4  ‘Captain America: Brave New World’ movie revie..."
      ]
     },
     "execution_count": 431,
     "metadata": {},
     "output_type": "execute_result"
    }
   ],
   "source": [
    "hindu_enter.head()"
   ]
  },
  {
   "cell_type": "code",
   "execution_count": 432,
   "id": "5c5399e1-cb36-4acd-8c89-edf4e63f7494",
   "metadata": {},
   "outputs": [
    {
     "data": {
      "text/plain": [
       "6"
      ]
     },
     "execution_count": 432,
     "metadata": {},
     "output_type": "execute_result"
    }
   ],
   "source": [
    "hindu_enter.duplicated().sum()"
   ]
  },
  {
   "cell_type": "code",
   "execution_count": 433,
   "id": "3c090f29-b400-45db-912a-afa1f7d2cff2",
   "metadata": {},
   "outputs": [],
   "source": [
    "hindu_enter.drop_duplicates(inplace=True)"
   ]
  },
  {
   "cell_type": "code",
   "execution_count": 434,
   "id": "ec4cdd0b-11a3-4ff6-84d3-6246226e88c1",
   "metadata": {},
   "outputs": [],
   "source": [
    "hindu_enter.rename(columns={'hindu_enter':'statement'},inplace=True)"
   ]
  },
  {
   "cell_type": "code",
   "execution_count": 435,
   "id": "cbbe575b-1269-43b2-ad4e-f6499e41069a",
   "metadata": {},
   "outputs": [],
   "source": [
    "india_enter=pd.read_csv(r\"web_scraped_datasets\\india_enter.csv\")"
   ]
  },
  {
   "cell_type": "code",
   "execution_count": 436,
   "id": "91dc465c-0334-4dbe-a3e1-bb4de60a837e",
   "metadata": {},
   "outputs": [
    {
     "data": {
      "text/html": [
       "<div>\n",
       "<style scoped>\n",
       "    .dataframe tbody tr th:only-of-type {\n",
       "        vertical-align: middle;\n",
       "    }\n",
       "\n",
       "    .dataframe tbody tr th {\n",
       "        vertical-align: top;\n",
       "    }\n",
       "\n",
       "    .dataframe thead th {\n",
       "        text-align: right;\n",
       "    }\n",
       "</style>\n",
       "<table border=\"1\" class=\"dataframe\">\n",
       "  <thead>\n",
       "    <tr style=\"text-align: right;\">\n",
       "      <th></th>\n",
       "      <th>india_enter</th>\n",
       "    </tr>\n",
       "  </thead>\n",
       "  <tbody>\n",
       "    <tr>\n",
       "      <th>0</th>\n",
       "      <td>Tom Holland couldn't buy his own non-alcoholic...</td>\n",
       "    </tr>\n",
       "    <tr>\n",
       "      <th>1</th>\n",
       "      <td>Kevin Spacey responds to Guy Pearce's allegati...</td>\n",
       "    </tr>\n",
       "    <tr>\n",
       "      <th>2</th>\n",
       "      <td>The First Frost review: Love, trauma, longing ...</td>\n",
       "    </tr>\n",
       "    <tr>\n",
       "      <th>3</th>\n",
       "      <td>Blake Lively alleges co-star Justin Baldoni ma...</td>\n",
       "    </tr>\n",
       "    <tr>\n",
       "      <th>4</th>\n",
       "      <td>Salman Khan's look from Hollywood debut surfac...</td>\n",
       "    </tr>\n",
       "  </tbody>\n",
       "</table>\n",
       "</div>"
      ],
      "text/plain": [
       "                                         india_enter\n",
       "0  Tom Holland couldn't buy his own non-alcoholic...\n",
       "1  Kevin Spacey responds to Guy Pearce's allegati...\n",
       "2  The First Frost review: Love, trauma, longing ...\n",
       "3  Blake Lively alleges co-star Justin Baldoni ma...\n",
       "4  Salman Khan's look from Hollywood debut surfac..."
      ]
     },
     "execution_count": 436,
     "metadata": {},
     "output_type": "execute_result"
    }
   ],
   "source": [
    "india_enter.head()"
   ]
  },
  {
   "cell_type": "code",
   "execution_count": 437,
   "id": "97912284-4a0b-4025-9e31-7febd7c2a1af",
   "metadata": {},
   "outputs": [
    {
     "data": {
      "text/plain": [
       "0"
      ]
     },
     "execution_count": 437,
     "metadata": {},
     "output_type": "execute_result"
    }
   ],
   "source": [
    "india_enter.duplicated().sum()"
   ]
  },
  {
   "cell_type": "code",
   "execution_count": 438,
   "id": "67085c70-5c2d-4001-afe3-2940ae98dec4",
   "metadata": {},
   "outputs": [],
   "source": [
    "india_enter.rename(columns={'india_enter':'statement'},inplace=True)"
   ]
  },
  {
   "cell_type": "code",
   "execution_count": 439,
   "id": "577f0891-8645-4310-a7d9-38936b2bdbc7",
   "metadata": {},
   "outputs": [],
   "source": [
    "ndtv_enter=pd.read_csv(r\"web_scraped_datasets\\ndtv_enter.csv\")"
   ]
  },
  {
   "cell_type": "code",
   "execution_count": 440,
   "id": "5c961231-b298-42b9-bef2-cb2be14b593c",
   "metadata": {},
   "outputs": [
    {
     "data": {
      "text/html": [
       "<div>\n",
       "<style scoped>\n",
       "    .dataframe tbody tr th:only-of-type {\n",
       "        vertical-align: middle;\n",
       "    }\n",
       "\n",
       "    .dataframe tbody tr th {\n",
       "        vertical-align: top;\n",
       "    }\n",
       "\n",
       "    .dataframe thead th {\n",
       "        text-align: right;\n",
       "    }\n",
       "</style>\n",
       "<table border=\"1\" class=\"dataframe\">\n",
       "  <thead>\n",
       "    <tr style=\"text-align: right;\">\n",
       "      <th></th>\n",
       "      <th>ndtv_enter</th>\n",
       "    </tr>\n",
       "  </thead>\n",
       "  <tbody>\n",
       "    <tr>\n",
       "      <th>0</th>\n",
       "      <td>Raj &amp;amp; DK On Financial Fraud Reports On Gul...</td>\n",
       "    </tr>\n",
       "    <tr>\n",
       "      <th>1</th>\n",
       "      <td>Imtiaz Ali On Shammi Kapoor Shooting For Rocks...</td>\n",
       "    </tr>\n",
       "    <tr>\n",
       "      <th>2</th>\n",
       "      <td>Sanam Teri Kasam 2: Shraddha To Be Cast Opposi...</td>\n",
       "    </tr>\n",
       "    <tr>\n",
       "      <th>3</th>\n",
       "      <td>J-Hope's Reaction To Jin's Birthday Surprise I...</td>\n",
       "    </tr>\n",
       "    <tr>\n",
       "      <th>4</th>\n",
       "      <td>Watch: Zanai Bhosle And Mohammed Siraj Vibing ...</td>\n",
       "    </tr>\n",
       "  </tbody>\n",
       "</table>\n",
       "</div>"
      ],
      "text/plain": [
       "                                          ndtv_enter\n",
       "0  Raj &amp; DK On Financial Fraud Reports On Gul...\n",
       "1  Imtiaz Ali On Shammi Kapoor Shooting For Rocks...\n",
       "2  Sanam Teri Kasam 2: Shraddha To Be Cast Opposi...\n",
       "3  J-Hope's Reaction To Jin's Birthday Surprise I...\n",
       "4  Watch: Zanai Bhosle And Mohammed Siraj Vibing ..."
      ]
     },
     "execution_count": 440,
     "metadata": {},
     "output_type": "execute_result"
    }
   ],
   "source": [
    "ndtv_enter.head()"
   ]
  },
  {
   "cell_type": "code",
   "execution_count": 441,
   "id": "66327398-b65b-4cc8-96d8-19448cff468c",
   "metadata": {},
   "outputs": [
    {
     "data": {
      "text/plain": [
       "5"
      ]
     },
     "execution_count": 441,
     "metadata": {},
     "output_type": "execute_result"
    }
   ],
   "source": [
    "ndtv_enter.duplicated().sum()\n"
   ]
  },
  {
   "cell_type": "code",
   "execution_count": 442,
   "id": "6bcd1197-93fe-4984-9b5d-58e7ca12f9c6",
   "metadata": {},
   "outputs": [],
   "source": [
    "ndtv_enter.drop_duplicates(inplace=True)"
   ]
  },
  {
   "cell_type": "code",
   "execution_count": 443,
   "id": "49c4e0d3-dfb4-4f5b-bd9e-2d756ff641b1",
   "metadata": {},
   "outputs": [],
   "source": [
    "ndtv_enter.rename(columns={'ndtv_enter':'statement'},inplace=True)"
   ]
  },
  {
   "cell_type": "code",
   "execution_count": 444,
   "id": "1d071ca6-cf74-4e25-bbb3-48c5fa309e35",
   "metadata": {},
   "outputs": [],
   "source": [
    "tof_enter=pd.read_csv(r\"web_scraped_datasets\\tof_enter.csv\")"
   ]
  },
  {
   "cell_type": "code",
   "execution_count": 445,
   "id": "d5ccc3ae-9708-41c5-b686-eb8d2142b27b",
   "metadata": {},
   "outputs": [
    {
     "data": {
      "text/html": [
       "<div>\n",
       "<style scoped>\n",
       "    .dataframe tbody tr th:only-of-type {\n",
       "        vertical-align: middle;\n",
       "    }\n",
       "\n",
       "    .dataframe tbody tr th {\n",
       "        vertical-align: top;\n",
       "    }\n",
       "\n",
       "    .dataframe thead th {\n",
       "        text-align: right;\n",
       "    }\n",
       "</style>\n",
       "<table border=\"1\" class=\"dataframe\">\n",
       "  <thead>\n",
       "    <tr style=\"text-align: right;\">\n",
       "      <th></th>\n",
       "      <th>tof_enter</th>\n",
       "    </tr>\n",
       "  </thead>\n",
       "  <tbody>\n",
       "    <tr>\n",
       "      <th>0</th>\n",
       "      <td>Hurtful things you should never say to your pa...</td>\n",
       "    </tr>\n",
       "    <tr>\n",
       "      <th>1</th>\n",
       "      <td>Fruits that help burn belly fat</td>\n",
       "    </tr>\n",
       "    <tr>\n",
       "      <th>2</th>\n",
       "      <td>Building a balanced study routine for children</td>\n",
       "    </tr>\n",
       "    <tr>\n",
       "      <th>3</th>\n",
       "      <td>Hanuman Chalisa vs Bajrang Baan</td>\n",
       "    </tr>\n",
       "    <tr>\n",
       "      <th>4</th>\n",
       "      <td>Stylish wedding pictures of 'Husn' singer Anuv...</td>\n",
       "    </tr>\n",
       "  </tbody>\n",
       "</table>\n",
       "</div>"
      ],
      "text/plain": [
       "                                           tof_enter\n",
       "0  Hurtful things you should never say to your pa...\n",
       "1                    Fruits that help burn belly fat\n",
       "2     Building a balanced study routine for children\n",
       "3                    Hanuman Chalisa vs Bajrang Baan\n",
       "4  Stylish wedding pictures of 'Husn' singer Anuv..."
      ]
     },
     "execution_count": 445,
     "metadata": {},
     "output_type": "execute_result"
    }
   ],
   "source": [
    "tof_enter.head()"
   ]
  },
  {
   "cell_type": "code",
   "execution_count": 446,
   "id": "4c6ecd1d-9a62-4608-acd9-03182b7d26e5",
   "metadata": {},
   "outputs": [
    {
     "data": {
      "text/plain": [
       "18"
      ]
     },
     "execution_count": 446,
     "metadata": {},
     "output_type": "execute_result"
    }
   ],
   "source": [
    "tof_enter.duplicated().sum()"
   ]
  },
  {
   "cell_type": "code",
   "execution_count": 447,
   "id": "2ed80609-9695-4379-83ec-5d5ada8342c0",
   "metadata": {},
   "outputs": [],
   "source": [
    "tof_enter.drop_duplicates(inplace=True)"
   ]
  },
  {
   "cell_type": "code",
   "execution_count": 448,
   "id": "8bbccdf6-2fa7-4101-8749-d8cb640fa117",
   "metadata": {},
   "outputs": [],
   "source": [
    "tof_enter.rename(columns={'tof_enter':'statement'},inplace=True)"
   ]
  },
  {
   "cell_type": "code",
   "execution_count": 449,
   "id": "5eeb5750-3bd8-4026-b135-357f7d854065",
   "metadata": {},
   "outputs": [],
   "source": [
    "df_enter=pd.concat([deccan_enter,express_enter,hindu_enter,india_enter,ndtv_enter,tof_enter],axis=0)"
   ]
  },
  {
   "cell_type": "code",
   "execution_count": 450,
   "id": "02e56474-e591-44ef-86e1-353a7f0e0391",
   "metadata": {},
   "outputs": [
    {
     "data": {
      "text/html": [
       "<div>\n",
       "<style scoped>\n",
       "    .dataframe tbody tr th:only-of-type {\n",
       "        vertical-align: middle;\n",
       "    }\n",
       "\n",
       "    .dataframe tbody tr th {\n",
       "        vertical-align: top;\n",
       "    }\n",
       "\n",
       "    .dataframe thead th {\n",
       "        text-align: right;\n",
       "    }\n",
       "</style>\n",
       "<table border=\"1\" class=\"dataframe\">\n",
       "  <thead>\n",
       "    <tr style=\"text-align: right;\">\n",
       "      <th></th>\n",
       "      <th>statement</th>\n",
       "    </tr>\n",
       "  </thead>\n",
       "  <tbody>\n",
       "    <tr>\n",
       "      <th>0</th>\n",
       "      <td>Leaking pipeline in 'Mrs' a metaphor for patri...</td>\n",
       "    </tr>\n",
       "    <tr>\n",
       "      <th>1</th>\n",
       "      <td>Richa Chadha, Ali Fazal board queer drama 'TAP...</td>\n",
       "    </tr>\n",
       "    <tr>\n",
       "      <th>2</th>\n",
       "      <td>Shweta Tripathi to turn producer, says she fee...</td>\n",
       "    </tr>\n",
       "    <tr>\n",
       "      <th>3</th>\n",
       "      <td>Comedy is an important genre for family audien...</td>\n",
       "    </tr>\n",
       "    <tr>\n",
       "      <th>0</th>\n",
       "      <td>Marco: Unni Mukundan's reprehensible film ruin...</td>\n",
       "    </tr>\n",
       "    <tr>\n",
       "      <th>...</th>\n",
       "      <td>...</td>\n",
       "    </tr>\n",
       "    <tr>\n",
       "      <th>130</th>\n",
       "      <td>William-Kate risked the line of succession by ...</td>\n",
       "    </tr>\n",
       "    <tr>\n",
       "      <th>131</th>\n",
       "      <td>Psychologist differentiate love from toxicity:...</td>\n",
       "    </tr>\n",
       "    <tr>\n",
       "      <th>132</th>\n",
       "      <td>It's a fact! Hugs can boost your immunity and ...</td>\n",
       "    </tr>\n",
       "    <tr>\n",
       "      <th>133</th>\n",
       "      <td>5 signs your coworker is 'productivity peacock...</td>\n",
       "    </tr>\n",
       "    <tr>\n",
       "      <th>134</th>\n",
       "      <td>First thing you see reveals how you handle pre...</td>\n",
       "    </tr>\n",
       "  </tbody>\n",
       "</table>\n",
       "<p>268 rows × 1 columns</p>\n",
       "</div>"
      ],
      "text/plain": [
       "                                             statement\n",
       "0    Leaking pipeline in 'Mrs' a metaphor for patri...\n",
       "1    Richa Chadha, Ali Fazal board queer drama 'TAP...\n",
       "2    Shweta Tripathi to turn producer, says she fee...\n",
       "3    Comedy is an important genre for family audien...\n",
       "0    Marco: Unni Mukundan's reprehensible film ruin...\n",
       "..                                                 ...\n",
       "130  William-Kate risked the line of succession by ...\n",
       "131  Psychologist differentiate love from toxicity:...\n",
       "132  It's a fact! Hugs can boost your immunity and ...\n",
       "133  5 signs your coworker is 'productivity peacock...\n",
       "134  First thing you see reveals how you handle pre...\n",
       "\n",
       "[268 rows x 1 columns]"
      ]
     },
     "execution_count": 450,
     "metadata": {},
     "output_type": "execute_result"
    }
   ],
   "source": [
    "df_enter"
   ]
  },
  {
   "cell_type": "code",
   "execution_count": 451,
   "id": "1c370c61-dd1d-4b12-bfdf-a1faf4c7387b",
   "metadata": {},
   "outputs": [],
   "source": [
    "df_enter.reset_index(drop=True,inplace=True)"
   ]
  },
  {
   "cell_type": "code",
   "execution_count": 452,
   "id": "9daa2a91-baf4-48f7-a24b-b894067d7a5c",
   "metadata": {},
   "outputs": [],
   "source": [
    "df_enter['label']='entertainment'"
   ]
  },
  {
   "cell_type": "code",
   "execution_count": 453,
   "id": "1d1f60ea-f576-4d09-a126-05df949f41bc",
   "metadata": {},
   "outputs": [
    {
     "data": {
      "text/html": [
       "<div>\n",
       "<style scoped>\n",
       "    .dataframe tbody tr th:only-of-type {\n",
       "        vertical-align: middle;\n",
       "    }\n",
       "\n",
       "    .dataframe tbody tr th {\n",
       "        vertical-align: top;\n",
       "    }\n",
       "\n",
       "    .dataframe thead th {\n",
       "        text-align: right;\n",
       "    }\n",
       "</style>\n",
       "<table border=\"1\" class=\"dataframe\">\n",
       "  <thead>\n",
       "    <tr style=\"text-align: right;\">\n",
       "      <th></th>\n",
       "      <th>statement</th>\n",
       "      <th>label</th>\n",
       "    </tr>\n",
       "  </thead>\n",
       "  <tbody>\n",
       "    <tr>\n",
       "      <th>0</th>\n",
       "      <td>Leaking pipeline in 'Mrs' a metaphor for patri...</td>\n",
       "      <td>entertainment</td>\n",
       "    </tr>\n",
       "    <tr>\n",
       "      <th>1</th>\n",
       "      <td>Richa Chadha, Ali Fazal board queer drama 'TAP...</td>\n",
       "      <td>entertainment</td>\n",
       "    </tr>\n",
       "    <tr>\n",
       "      <th>2</th>\n",
       "      <td>Shweta Tripathi to turn producer, says she fee...</td>\n",
       "      <td>entertainment</td>\n",
       "    </tr>\n",
       "    <tr>\n",
       "      <th>3</th>\n",
       "      <td>Comedy is an important genre for family audien...</td>\n",
       "      <td>entertainment</td>\n",
       "    </tr>\n",
       "    <tr>\n",
       "      <th>4</th>\n",
       "      <td>Marco: Unni Mukundan's reprehensible film ruin...</td>\n",
       "      <td>entertainment</td>\n",
       "    </tr>\n",
       "  </tbody>\n",
       "</table>\n",
       "</div>"
      ],
      "text/plain": [
       "                                           statement          label\n",
       "0  Leaking pipeline in 'Mrs' a metaphor for patri...  entertainment\n",
       "1  Richa Chadha, Ali Fazal board queer drama 'TAP...  entertainment\n",
       "2  Shweta Tripathi to turn producer, says she fee...  entertainment\n",
       "3  Comedy is an important genre for family audien...  entertainment\n",
       "4  Marco: Unni Mukundan's reprehensible film ruin...  entertainment"
      ]
     },
     "execution_count": 453,
     "metadata": {},
     "output_type": "execute_result"
    }
   ],
   "source": [
    "df_enter.head()"
   ]
  },
  {
   "cell_type": "markdown",
   "id": "ebdea77d-d337-4513-9256-410196f8a1f4",
   "metadata": {},
   "source": [
    "#"
   ]
  },
  {
   "cell_type": "code",
   "execution_count": 454,
   "id": "99676b0d-d0d4-4ca1-a842-cd5a24d2bf75",
   "metadata": {},
   "outputs": [],
   "source": [
    "deccan_sports=pd.read_csv(r\"web_scraped_datasets\\deccan_sports.csv\")"
   ]
  },
  {
   "cell_type": "code",
   "execution_count": 455,
   "id": "b5b9fbc0-c3de-482e-8f28-40a830cb92c7",
   "metadata": {},
   "outputs": [
    {
     "data": {
      "text/html": [
       "<div>\n",
       "<style scoped>\n",
       "    .dataframe tbody tr th:only-of-type {\n",
       "        vertical-align: middle;\n",
       "    }\n",
       "\n",
       "    .dataframe tbody tr th {\n",
       "        vertical-align: top;\n",
       "    }\n",
       "\n",
       "    .dataframe thead th {\n",
       "        text-align: right;\n",
       "    }\n",
       "</style>\n",
       "<table border=\"1\" class=\"dataframe\">\n",
       "  <thead>\n",
       "    <tr style=\"text-align: right;\">\n",
       "      <th></th>\n",
       "      <th>deccan_sports</th>\n",
       "    </tr>\n",
       "  </thead>\n",
       "  <tbody>\n",
       "    <tr>\n",
       "      <th>0</th>\n",
       "      <td>With more than 40 brands on board, Ganguly rem...</td>\n",
       "    </tr>\n",
       "    <tr>\n",
       "      <th>1</th>\n",
       "      <td>Pakistan opt to bowl against New Zealand in Ch...</td>\n",
       "    </tr>\n",
       "    <tr>\n",
       "      <th>2</th>\n",
       "      <td>Shubman Gill dethrones Babar Azam to become No...</td>\n",
       "    </tr>\n",
       "    <tr>\n",
       "      <th>3</th>\n",
       "      <td>India look to rise above selection challenges,...</td>\n",
       "    </tr>\n",
       "    <tr>\n",
       "      <th>4</th>\n",
       "      <td>Fact Check | Pakistan Cricket Board denies cla...</td>\n",
       "    </tr>\n",
       "  </tbody>\n",
       "</table>\n",
       "</div>"
      ],
      "text/plain": [
       "                                       deccan_sports\n",
       "0  With more than 40 brands on board, Ganguly rem...\n",
       "1  Pakistan opt to bowl against New Zealand in Ch...\n",
       "2  Shubman Gill dethrones Babar Azam to become No...\n",
       "3  India look to rise above selection challenges,...\n",
       "4  Fact Check | Pakistan Cricket Board denies cla..."
      ]
     },
     "execution_count": 455,
     "metadata": {},
     "output_type": "execute_result"
    }
   ],
   "source": [
    "deccan_sports.head()"
   ]
  },
  {
   "cell_type": "code",
   "execution_count": 456,
   "id": "1a9c0e90-5dd1-4d70-8b01-4c8482e326c0",
   "metadata": {},
   "outputs": [
    {
     "data": {
      "text/plain": [
       "0"
      ]
     },
     "execution_count": 456,
     "metadata": {},
     "output_type": "execute_result"
    }
   ],
   "source": [
    "deccan_sports.duplicated().sum()"
   ]
  },
  {
   "cell_type": "code",
   "execution_count": 457,
   "id": "7f32d831-8910-44bd-9fba-9e2e463f4ca3",
   "metadata": {},
   "outputs": [],
   "source": [
    "deccan_sports.rename(columns={'deccan_sports':'statement'},inplace=True)"
   ]
  },
  {
   "cell_type": "code",
   "execution_count": 458,
   "id": "17422926-b3dc-4d87-853c-30c793c966c7",
   "metadata": {},
   "outputs": [],
   "source": [
    "express_sports=pd.read_csv(r\"web_scraped_datasets\\express_sports.csv\")"
   ]
  },
  {
   "cell_type": "code",
   "execution_count": 459,
   "id": "a6f85996-81d8-4af9-9279-5c2e5fe5120d",
   "metadata": {},
   "outputs": [
    {
     "data": {
      "text/html": [
       "<div>\n",
       "<style scoped>\n",
       "    .dataframe tbody tr th:only-of-type {\n",
       "        vertical-align: middle;\n",
       "    }\n",
       "\n",
       "    .dataframe tbody tr th {\n",
       "        vertical-align: top;\n",
       "    }\n",
       "\n",
       "    .dataframe thead th {\n",
       "        text-align: right;\n",
       "    }\n",
       "</style>\n",
       "<table border=\"1\" class=\"dataframe\">\n",
       "  <thead>\n",
       "    <tr style=\"text-align: right;\">\n",
       "      <th></th>\n",
       "      <th>express_sports</th>\n",
       "    </tr>\n",
       "  </thead>\n",
       "  <tbody>\n",
       "    <tr>\n",
       "      <th>0</th>\n",
       "      <td>Pakistan vs New Zealand LIVE Cricket Score, Ch...</td>\n",
       "    </tr>\n",
       "    <tr>\n",
       "      <th>1</th>\n",
       "      <td>‘Upbeat’ Bangladesh captain Shanto confident a...</td>\n",
       "    </tr>\n",
       "    <tr>\n",
       "      <th>2</th>\n",
       "      <td>Ranji Trophy: Priyank Panchal's commanding hun...</td>\n",
       "    </tr>\n",
       "    <tr>\n",
       "      <th>3</th>\n",
       "      <td>Vidarbha in driver’s seat despite Mumbai lower...</td>\n",
       "    </tr>\n",
       "    <tr>\n",
       "      <th>4</th>\n",
       "      <td>Stage set in Karachi today, India waits in Dub...</td>\n",
       "    </tr>\n",
       "  </tbody>\n",
       "</table>\n",
       "</div>"
      ],
      "text/plain": [
       "                                      express_sports\n",
       "0  Pakistan vs New Zealand LIVE Cricket Score, Ch...\n",
       "1  ‘Upbeat’ Bangladesh captain Shanto confident a...\n",
       "2  Ranji Trophy: Priyank Panchal's commanding hun...\n",
       "3  Vidarbha in driver’s seat despite Mumbai lower...\n",
       "4  Stage set in Karachi today, India waits in Dub..."
      ]
     },
     "execution_count": 459,
     "metadata": {},
     "output_type": "execute_result"
    }
   ],
   "source": [
    "express_sports.head()"
   ]
  },
  {
   "cell_type": "code",
   "execution_count": 460,
   "id": "e930165d-da83-4589-9675-feaad6f87db4",
   "metadata": {},
   "outputs": [
    {
     "data": {
      "text/plain": [
       "3"
      ]
     },
     "execution_count": 460,
     "metadata": {},
     "output_type": "execute_result"
    }
   ],
   "source": [
    "express_sports.duplicated().sum()"
   ]
  },
  {
   "cell_type": "code",
   "execution_count": 461,
   "id": "f883f0ab-3b1a-4138-80a6-59de0dc8a262",
   "metadata": {},
   "outputs": [],
   "source": [
    "express_sports.drop_duplicates(inplace=True)"
   ]
  },
  {
   "cell_type": "code",
   "execution_count": 462,
   "id": "86dae6f9-34b8-4093-acd3-0d69a23c9f7b",
   "metadata": {},
   "outputs": [],
   "source": [
    "express_sports.rename(columns={'express_sports':'statement'},inplace=True)"
   ]
  },
  {
   "cell_type": "code",
   "execution_count": 463,
   "id": "099dc78a-be6a-430f-804e-a72dff7cd276",
   "metadata": {},
   "outputs": [],
   "source": [
    "hindu_sports=pd.read_csv(r\"web_scraped_datasets\\hindu_sports.csv\")"
   ]
  },
  {
   "cell_type": "code",
   "execution_count": 464,
   "id": "77cfc69d-7bd2-4c2d-9735-ba6342646f36",
   "metadata": {},
   "outputs": [
    {
     "data": {
      "text/html": [
       "<div>\n",
       "<style scoped>\n",
       "    .dataframe tbody tr th:only-of-type {\n",
       "        vertical-align: middle;\n",
       "    }\n",
       "\n",
       "    .dataframe tbody tr th {\n",
       "        vertical-align: top;\n",
       "    }\n",
       "\n",
       "    .dataframe thead th {\n",
       "        text-align: right;\n",
       "    }\n",
       "</style>\n",
       "<table border=\"1\" class=\"dataframe\">\n",
       "  <thead>\n",
       "    <tr style=\"text-align: right;\">\n",
       "      <th></th>\n",
       "      <th>hindu_sports.</th>\n",
       "    </tr>\n",
       "  </thead>\n",
       "  <tbody>\n",
       "    <tr>\n",
       "      <th>0</th>\n",
       "      <td>ICC approves Jamieson as replacement for Fergu...</td>\n",
       "    </tr>\n",
       "    <tr>\n",
       "      <th>1</th>\n",
       "      <td>WPL | Mumbai Indians continues domination over...</td>\n",
       "    </tr>\n",
       "    <tr>\n",
       "      <th>2</th>\n",
       "      <td>Champions Trophy: Pakistan begins title defenc...</td>\n",
       "    </tr>\n",
       "    <tr>\n",
       "      <th>3</th>\n",
       "      <td>Jan Zelezny’s tweaks will take me to 90m mark ...</td>\n",
       "    </tr>\n",
       "    <tr>\n",
       "      <th>4</th>\n",
       "      <td>Champions Trophy 2025: Young, Latham guide New...</td>\n",
       "    </tr>\n",
       "  </tbody>\n",
       "</table>\n",
       "</div>"
      ],
      "text/plain": [
       "                                       hindu_sports.\n",
       "0  ICC approves Jamieson as replacement for Fergu...\n",
       "1  WPL | Mumbai Indians continues domination over...\n",
       "2  Champions Trophy: Pakistan begins title defenc...\n",
       "3  Jan Zelezny’s tweaks will take me to 90m mark ...\n",
       "4  Champions Trophy 2025: Young, Latham guide New..."
      ]
     },
     "execution_count": 464,
     "metadata": {},
     "output_type": "execute_result"
    }
   ],
   "source": [
    "hindu_sports.head()"
   ]
  },
  {
   "cell_type": "code",
   "execution_count": 465,
   "id": "9cf5d59b-4972-4cf6-ae49-de28cec93e55",
   "metadata": {},
   "outputs": [
    {
     "data": {
      "text/plain": [
       "0"
      ]
     },
     "execution_count": 465,
     "metadata": {},
     "output_type": "execute_result"
    }
   ],
   "source": [
    "hindu_sports.duplicated().sum()"
   ]
  },
  {
   "cell_type": "code",
   "execution_count": 466,
   "id": "cb441e77-a603-4292-a6e1-f354067adb1e",
   "metadata": {},
   "outputs": [],
   "source": [
    "hindu_sports.rename(columns={'hindu_sports.':'statement'},inplace=True)"
   ]
  },
  {
   "cell_type": "code",
   "execution_count": 467,
   "id": "4026aeec-ab06-4823-a97d-28b5673a80de",
   "metadata": {},
   "outputs": [],
   "source": [
    "hindusthan_sports=pd.read_csv(r\"web_scraped_datasets\\hindusthan_sports.csv\")"
   ]
  },
  {
   "cell_type": "code",
   "execution_count": 468,
   "id": "73eecdba-26e7-41e6-b370-ae8bb426b827",
   "metadata": {},
   "outputs": [
    {
     "data": {
      "text/html": [
       "<div>\n",
       "<style scoped>\n",
       "    .dataframe tbody tr th:only-of-type {\n",
       "        vertical-align: middle;\n",
       "    }\n",
       "\n",
       "    .dataframe tbody tr th {\n",
       "        vertical-align: top;\n",
       "    }\n",
       "\n",
       "    .dataframe thead th {\n",
       "        text-align: right;\n",
       "    }\n",
       "</style>\n",
       "<table border=\"1\" class=\"dataframe\">\n",
       "  <thead>\n",
       "    <tr style=\"text-align: right;\">\n",
       "      <th></th>\n",
       "      <th>hindusthan_sports</th>\n",
       "    </tr>\n",
       "  </thead>\n",
       "  <tbody>\n",
       "    <tr>\n",
       "      <th>0</th>\n",
       "      <td>Inter misses chance to go top of Serie A after...</td>\n",
       "    </tr>\n",
       "  </tbody>\n",
       "</table>\n",
       "</div>"
      ],
      "text/plain": [
       "                                   hindusthan_sports\n",
       "0  Inter misses chance to go top of Serie A after..."
      ]
     },
     "execution_count": 468,
     "metadata": {},
     "output_type": "execute_result"
    }
   ],
   "source": [
    "hindusthan_sports.head()"
   ]
  },
  {
   "cell_type": "code",
   "execution_count": 469,
   "id": "f7f72cb9-6615-4fc6-826d-3461d568e40b",
   "metadata": {},
   "outputs": [],
   "source": [
    "hindusthan_sports.rename(columns={'hindusthan_sports':'statement'},inplace=True)"
   ]
  },
  {
   "cell_type": "code",
   "execution_count": 470,
   "id": "2337f00f-4826-4358-9217-06d47c355e78",
   "metadata": {},
   "outputs": [],
   "source": [
    "india_sports=pd.read_csv(r\"web_scraped_datasets\\india_sports.csv\")"
   ]
  },
  {
   "cell_type": "code",
   "execution_count": 471,
   "id": "c5751ba2-bfcb-49ce-ad25-2e76336ca71f",
   "metadata": {},
   "outputs": [
    {
     "data": {
      "text/html": [
       "<div>\n",
       "<style scoped>\n",
       "    .dataframe tbody tr th:only-of-type {\n",
       "        vertical-align: middle;\n",
       "    }\n",
       "\n",
       "    .dataframe tbody tr th {\n",
       "        vertical-align: top;\n",
       "    }\n",
       "\n",
       "    .dataframe thead th {\n",
       "        text-align: right;\n",
       "    }\n",
       "</style>\n",
       "<table border=\"1\" class=\"dataframe\">\n",
       "  <thead>\n",
       "    <tr style=\"text-align: right;\">\n",
       "      <th></th>\n",
       "      <th>india_sports</th>\n",
       "    </tr>\n",
       "  </thead>\n",
       "  <tbody>\n",
       "    <tr>\n",
       "      <th>0</th>\n",
       "      <td>WPL 2025, UP Warriorz vs Delhi Capitals: Live ...</td>\n",
       "    </tr>\n",
       "    <tr>\n",
       "      <th>1</th>\n",
       "      <td>Pakistan fans happily welcome Champions Trophy...</td>\n",
       "    </tr>\n",
       "    <tr>\n",
       "      <th>2</th>\n",
       "      <td>Will Young dazzles on Champions Trophy debut w...</td>\n",
       "    </tr>\n",
       "    <tr>\n",
       "      <th>3</th>\n",
       "      <td>Bangladesh can beat any team in the Champions ...</td>\n",
       "    </tr>\n",
       "    <tr>\n",
       "      <th>4</th>\n",
       "      <td>BCCI should be taught a lesson: Ex-spinner bef...</td>\n",
       "    </tr>\n",
       "  </tbody>\n",
       "</table>\n",
       "</div>"
      ],
      "text/plain": [
       "                                        india_sports\n",
       "0  WPL 2025, UP Warriorz vs Delhi Capitals: Live ...\n",
       "1  Pakistan fans happily welcome Champions Trophy...\n",
       "2  Will Young dazzles on Champions Trophy debut w...\n",
       "3  Bangladesh can beat any team in the Champions ...\n",
       "4  BCCI should be taught a lesson: Ex-spinner bef..."
      ]
     },
     "execution_count": 471,
     "metadata": {},
     "output_type": "execute_result"
    }
   ],
   "source": [
    "india_sports.head()"
   ]
  },
  {
   "cell_type": "code",
   "execution_count": 472,
   "id": "885c8d7f-c891-4661-9091-47653b44d2a8",
   "metadata": {},
   "outputs": [
    {
     "data": {
      "text/plain": [
       "9"
      ]
     },
     "execution_count": 472,
     "metadata": {},
     "output_type": "execute_result"
    }
   ],
   "source": [
    "india_sports.duplicated().sum()"
   ]
  },
  {
   "cell_type": "code",
   "execution_count": 473,
   "id": "b15010fa-7422-4d24-81f0-7f2e5d1515e4",
   "metadata": {},
   "outputs": [],
   "source": [
    "india_sports.drop_duplicates(inplace=True)"
   ]
  },
  {
   "cell_type": "code",
   "execution_count": 474,
   "id": "d2a59929-6afc-4164-845a-f0242d3e6369",
   "metadata": {},
   "outputs": [],
   "source": [
    "india_sports.rename(columns={'india_sports':'statement'},inplace=True)"
   ]
  },
  {
   "cell_type": "code",
   "execution_count": 475,
   "id": "cc004ff8-cb03-490e-8ea4-938e4c04195d",
   "metadata": {},
   "outputs": [],
   "source": [
    "ndtv_sports=pd.read_csv(r\"web_scraped_datasets\\ndtv_sports.csv\")"
   ]
  },
  {
   "cell_type": "code",
   "execution_count": 476,
   "id": "0cc3fdbb-f3eb-4134-9799-37a3eeb1bcbd",
   "metadata": {},
   "outputs": [
    {
     "data": {
      "text/html": [
       "<div>\n",
       "<style scoped>\n",
       "    .dataframe tbody tr th:only-of-type {\n",
       "        vertical-align: middle;\n",
       "    }\n",
       "\n",
       "    .dataframe tbody tr th {\n",
       "        vertical-align: top;\n",
       "    }\n",
       "\n",
       "    .dataframe thead th {\n",
       "        text-align: right;\n",
       "    }\n",
       "</style>\n",
       "<table border=\"1\" class=\"dataframe\">\n",
       "  <thead>\n",
       "    <tr style=\"text-align: right;\">\n",
       "      <th></th>\n",
       "      <th>ndtv_sports</th>\n",
       "    </tr>\n",
       "  </thead>\n",
       "  <tbody>\n",
       "    <tr>\n",
       "      <th>0</th>\n",
       "      <td>Champions Trophy Live: Pak Script Unwanted Rec...</td>\n",
       "    </tr>\n",
       "    <tr>\n",
       "      <th>1</th>\n",
       "      <td>Massive Scare For Pakistan As Fakhar Zaman Suf...</td>\n",
       "    </tr>\n",
       "    <tr>\n",
       "      <th>2</th>\n",
       "      <td>Pakistan Air Force Show Scares NZ Players In K...</td>\n",
       "    </tr>\n",
       "    <tr>\n",
       "      <th>3</th>\n",
       "      <td>Pakistan Board Takes Big Step Days After India...</td>\n",
       "    </tr>\n",
       "    <tr>\n",
       "      <th>4</th>\n",
       "      <td>\"Does He Play For India?\": Pak Star Blasts PCB...</td>\n",
       "    </tr>\n",
       "  </tbody>\n",
       "</table>\n",
       "</div>"
      ],
      "text/plain": [
       "                                         ndtv_sports\n",
       "0  Champions Trophy Live: Pak Script Unwanted Rec...\n",
       "1  Massive Scare For Pakistan As Fakhar Zaman Suf...\n",
       "2  Pakistan Air Force Show Scares NZ Players In K...\n",
       "3  Pakistan Board Takes Big Step Days After India...\n",
       "4  \"Does He Play For India?\": Pak Star Blasts PCB..."
      ]
     },
     "execution_count": 476,
     "metadata": {},
     "output_type": "execute_result"
    }
   ],
   "source": [
    "ndtv_sports.head()"
   ]
  },
  {
   "cell_type": "code",
   "execution_count": 477,
   "id": "2ba42a95-5cca-4be8-9ffe-71116a41a35d",
   "metadata": {},
   "outputs": [
    {
     "data": {
      "text/plain": [
       "15"
      ]
     },
     "execution_count": 477,
     "metadata": {},
     "output_type": "execute_result"
    }
   ],
   "source": [
    "ndtv_sports.duplicated().sum()"
   ]
  },
  {
   "cell_type": "code",
   "execution_count": 478,
   "id": "b672d29d-3a0e-49ab-b5f2-ba13055b8587",
   "metadata": {},
   "outputs": [],
   "source": [
    "ndtv_sports.drop_duplicates(inplace=True)"
   ]
  },
  {
   "cell_type": "code",
   "execution_count": 479,
   "id": "3fe3a7c8-57a8-42f3-8bf0-33b084f5c404",
   "metadata": {},
   "outputs": [],
   "source": [
    "ndtv_sports.rename(columns={'ndtv_sports':'statement'},inplace=True)"
   ]
  },
  {
   "cell_type": "code",
   "execution_count": 480,
   "id": "c20bf590-fa28-488e-a353-e2263727336e",
   "metadata": {},
   "outputs": [],
   "source": [
    "tof_sports=pd.read_csv(r\"web_scraped_datasets\\tof_sports.csv\")"
   ]
  },
  {
   "cell_type": "code",
   "execution_count": 481,
   "id": "70592f10-ede4-4d22-b92d-fa079aab0fd8",
   "metadata": {},
   "outputs": [
    {
     "data": {
      "text/plain": [
       "12"
      ]
     },
     "execution_count": 481,
     "metadata": {},
     "output_type": "execute_result"
    }
   ],
   "source": [
    "tof_sports.duplicated().sum()"
   ]
  },
  {
   "cell_type": "code",
   "execution_count": 482,
   "id": "50968e3e-b033-4d32-b96f-ec08b4f2d1a7",
   "metadata": {},
   "outputs": [],
   "source": [
    "tof_sports.drop_duplicates(inplace=True)"
   ]
  },
  {
   "cell_type": "code",
   "execution_count": 483,
   "id": "13783455-25f7-4a66-96e7-54644d5708d2",
   "metadata": {},
   "outputs": [],
   "source": [
    "tof_sports.rename(columns={'tof_sports':'statement'},inplace=True)"
   ]
  },
  {
   "cell_type": "code",
   "execution_count": 484,
   "id": "4e75c6c0-dae1-41b9-8875-088251e34519",
   "metadata": {},
   "outputs": [],
   "source": [
    "df_sports=pd.concat([deccan_sports,express_sports,hindu_sports,hindusthan_sports,india_sports,ndtv_sports,tof_sports],axis=0)"
   ]
  },
  {
   "cell_type": "code",
   "execution_count": 485,
   "id": "06c49eed-53ea-4bb3-b8ba-a44dbc949557",
   "metadata": {},
   "outputs": [],
   "source": [
    "df_sports.reset_index(drop=True,inplace=True)"
   ]
  },
  {
   "cell_type": "code",
   "execution_count": 486,
   "id": "3953c016-cbdd-4231-be8d-d478aa288939",
   "metadata": {},
   "outputs": [
    {
     "data": {
      "text/html": [
       "<div>\n",
       "<style scoped>\n",
       "    .dataframe tbody tr th:only-of-type {\n",
       "        vertical-align: middle;\n",
       "    }\n",
       "\n",
       "    .dataframe tbody tr th {\n",
       "        vertical-align: top;\n",
       "    }\n",
       "\n",
       "    .dataframe thead th {\n",
       "        text-align: right;\n",
       "    }\n",
       "</style>\n",
       "<table border=\"1\" class=\"dataframe\">\n",
       "  <thead>\n",
       "    <tr style=\"text-align: right;\">\n",
       "      <th></th>\n",
       "      <th>statement</th>\n",
       "    </tr>\n",
       "  </thead>\n",
       "  <tbody>\n",
       "    <tr>\n",
       "      <th>0</th>\n",
       "      <td>With more than 40 brands on board, Ganguly rem...</td>\n",
       "    </tr>\n",
       "    <tr>\n",
       "      <th>1</th>\n",
       "      <td>Pakistan opt to bowl against New Zealand in Ch...</td>\n",
       "    </tr>\n",
       "    <tr>\n",
       "      <th>2</th>\n",
       "      <td>Shubman Gill dethrones Babar Azam to become No...</td>\n",
       "    </tr>\n",
       "    <tr>\n",
       "      <th>3</th>\n",
       "      <td>India look to rise above selection challenges,...</td>\n",
       "    </tr>\n",
       "    <tr>\n",
       "      <th>4</th>\n",
       "      <td>Fact Check | Pakistan Cricket Board denies cla...</td>\n",
       "    </tr>\n",
       "    <tr>\n",
       "      <th>...</th>\n",
       "      <td>...</td>\n",
       "    </tr>\n",
       "    <tr>\n",
       "      <th>290</th>\n",
       "      <td>Praveen Kumar takes India's gold tally to 6 on...</td>\n",
       "    </tr>\n",
       "    <tr>\n",
       "      <th>291</th>\n",
       "      <td>The Pittsburgh Penguins and the Penguins Found...</td>\n",
       "    </tr>\n",
       "    <tr>\n",
       "      <th>292</th>\n",
       "      <td>“I’m very pumped”: Steve Erceg shares his exci...</td>\n",
       "    </tr>\n",
       "    <tr>\n",
       "      <th>293</th>\n",
       "      <td>TOISA 2024: Celebrating the strength and spiri...</td>\n",
       "    </tr>\n",
       "    <tr>\n",
       "      <th>294</th>\n",
       "      <td>TOISA 2024: Celebrating the strength of India’...</td>\n",
       "    </tr>\n",
       "  </tbody>\n",
       "</table>\n",
       "<p>295 rows × 1 columns</p>\n",
       "</div>"
      ],
      "text/plain": [
       "                                             statement\n",
       "0    With more than 40 brands on board, Ganguly rem...\n",
       "1    Pakistan opt to bowl against New Zealand in Ch...\n",
       "2    Shubman Gill dethrones Babar Azam to become No...\n",
       "3    India look to rise above selection challenges,...\n",
       "4    Fact Check | Pakistan Cricket Board denies cla...\n",
       "..                                                 ...\n",
       "290  Praveen Kumar takes India's gold tally to 6 on...\n",
       "291  The Pittsburgh Penguins and the Penguins Found...\n",
       "292  “I’m very pumped”: Steve Erceg shares his exci...\n",
       "293  TOISA 2024: Celebrating the strength and spiri...\n",
       "294  TOISA 2024: Celebrating the strength of India’...\n",
       "\n",
       "[295 rows x 1 columns]"
      ]
     },
     "execution_count": 486,
     "metadata": {},
     "output_type": "execute_result"
    }
   ],
   "source": [
    "df_sports"
   ]
  },
  {
   "cell_type": "code",
   "execution_count": 487,
   "id": "eb933bf4-47c0-4f47-9c5f-adce89bea5e1",
   "metadata": {},
   "outputs": [],
   "source": [
    "df_sports['label']='sports'"
   ]
  },
  {
   "cell_type": "code",
   "execution_count": 488,
   "id": "04434142-c5a3-45e1-8abf-a3fe8f3d03dd",
   "metadata": {},
   "outputs": [
    {
     "data": {
      "text/html": [
       "<div>\n",
       "<style scoped>\n",
       "    .dataframe tbody tr th:only-of-type {\n",
       "        vertical-align: middle;\n",
       "    }\n",
       "\n",
       "    .dataframe tbody tr th {\n",
       "        vertical-align: top;\n",
       "    }\n",
       "\n",
       "    .dataframe thead th {\n",
       "        text-align: right;\n",
       "    }\n",
       "</style>\n",
       "<table border=\"1\" class=\"dataframe\">\n",
       "  <thead>\n",
       "    <tr style=\"text-align: right;\">\n",
       "      <th></th>\n",
       "      <th>statement</th>\n",
       "      <th>label</th>\n",
       "    </tr>\n",
       "  </thead>\n",
       "  <tbody>\n",
       "    <tr>\n",
       "      <th>0</th>\n",
       "      <td>With more than 40 brands on board, Ganguly rem...</td>\n",
       "      <td>sports</td>\n",
       "    </tr>\n",
       "    <tr>\n",
       "      <th>1</th>\n",
       "      <td>Pakistan opt to bowl against New Zealand in Ch...</td>\n",
       "      <td>sports</td>\n",
       "    </tr>\n",
       "    <tr>\n",
       "      <th>2</th>\n",
       "      <td>Shubman Gill dethrones Babar Azam to become No...</td>\n",
       "      <td>sports</td>\n",
       "    </tr>\n",
       "    <tr>\n",
       "      <th>3</th>\n",
       "      <td>India look to rise above selection challenges,...</td>\n",
       "      <td>sports</td>\n",
       "    </tr>\n",
       "    <tr>\n",
       "      <th>4</th>\n",
       "      <td>Fact Check | Pakistan Cricket Board denies cla...</td>\n",
       "      <td>sports</td>\n",
       "    </tr>\n",
       "    <tr>\n",
       "      <th>...</th>\n",
       "      <td>...</td>\n",
       "      <td>...</td>\n",
       "    </tr>\n",
       "    <tr>\n",
       "      <th>290</th>\n",
       "      <td>Praveen Kumar takes India's gold tally to 6 on...</td>\n",
       "      <td>sports</td>\n",
       "    </tr>\n",
       "    <tr>\n",
       "      <th>291</th>\n",
       "      <td>The Pittsburgh Penguins and the Penguins Found...</td>\n",
       "      <td>sports</td>\n",
       "    </tr>\n",
       "    <tr>\n",
       "      <th>292</th>\n",
       "      <td>“I’m very pumped”: Steve Erceg shares his exci...</td>\n",
       "      <td>sports</td>\n",
       "    </tr>\n",
       "    <tr>\n",
       "      <th>293</th>\n",
       "      <td>TOISA 2024: Celebrating the strength and spiri...</td>\n",
       "      <td>sports</td>\n",
       "    </tr>\n",
       "    <tr>\n",
       "      <th>294</th>\n",
       "      <td>TOISA 2024: Celebrating the strength of India’...</td>\n",
       "      <td>sports</td>\n",
       "    </tr>\n",
       "  </tbody>\n",
       "</table>\n",
       "<p>295 rows × 2 columns</p>\n",
       "</div>"
      ],
      "text/plain": [
       "                                             statement   label\n",
       "0    With more than 40 brands on board, Ganguly rem...  sports\n",
       "1    Pakistan opt to bowl against New Zealand in Ch...  sports\n",
       "2    Shubman Gill dethrones Babar Azam to become No...  sports\n",
       "3    India look to rise above selection challenges,...  sports\n",
       "4    Fact Check | Pakistan Cricket Board denies cla...  sports\n",
       "..                                                 ...     ...\n",
       "290  Praveen Kumar takes India's gold tally to 6 on...  sports\n",
       "291  The Pittsburgh Penguins and the Penguins Found...  sports\n",
       "292  “I’m very pumped”: Steve Erceg shares his exci...  sports\n",
       "293  TOISA 2024: Celebrating the strength and spiri...  sports\n",
       "294  TOISA 2024: Celebrating the strength of India’...  sports\n",
       "\n",
       "[295 rows x 2 columns]"
      ]
     },
     "execution_count": 488,
     "metadata": {},
     "output_type": "execute_result"
    }
   ],
   "source": [
    "df_sports"
   ]
  },
  {
   "cell_type": "markdown",
   "id": "8d79429c-1d2e-4454-b860-04f60c30cb85",
   "metadata": {},
   "source": [
    "#"
   ]
  },
  {
   "cell_type": "code",
   "execution_count": 489,
   "id": "ae550f28-6beb-4e11-9563-23e69638e553",
   "metadata": {},
   "outputs": [],
   "source": [
    "deccan_tech=pd.read_csv(r\"web_scraped_datasets\\deccan_tech.csv\")"
   ]
  },
  {
   "cell_type": "code",
   "execution_count": 490,
   "id": "5bde115d-ce0a-4758-b505-d819a1c9bf51",
   "metadata": {},
   "outputs": [
    {
     "data": {
      "text/html": [
       "<div>\n",
       "<style scoped>\n",
       "    .dataframe tbody tr th:only-of-type {\n",
       "        vertical-align: middle;\n",
       "    }\n",
       "\n",
       "    .dataframe tbody tr th {\n",
       "        vertical-align: top;\n",
       "    }\n",
       "\n",
       "    .dataframe thead th {\n",
       "        text-align: right;\n",
       "    }\n",
       "</style>\n",
       "<table border=\"1\" class=\"dataframe\">\n",
       "  <thead>\n",
       "    <tr style=\"text-align: right;\">\n",
       "      <th></th>\n",
       "      <th>deccan_tech</th>\n",
       "    </tr>\n",
       "  </thead>\n",
       "  <tbody>\n",
       "    <tr>\n",
       "      <th>0</th>\n",
       "      <td>Samsung unveils Galaxy A06 5G in India</td>\n",
       "    </tr>\n",
       "    <tr>\n",
       "      <th>1</th>\n",
       "      <td>Apple to launch new lower-cost iPhone to captu...</td>\n",
       "    </tr>\n",
       "    <tr>\n",
       "      <th>2</th>\n",
       "      <td>Google opens fourth office campus 'Ananta' in ...</td>\n",
       "    </tr>\n",
       "    <tr>\n",
       "      <th>3</th>\n",
       "      <td>All you need to know about Zomato's AI custome...</td>\n",
       "    </tr>\n",
       "    <tr>\n",
       "      <th>4</th>\n",
       "      <td>Nothing Phone (3a) to come with big camera upg...</td>\n",
       "    </tr>\n",
       "  </tbody>\n",
       "</table>\n",
       "</div>"
      ],
      "text/plain": [
       "                                         deccan_tech\n",
       "0             Samsung unveils Galaxy A06 5G in India\n",
       "1  Apple to launch new lower-cost iPhone to captu...\n",
       "2  Google opens fourth office campus 'Ananta' in ...\n",
       "3  All you need to know about Zomato's AI custome...\n",
       "4  Nothing Phone (3a) to come with big camera upg..."
      ]
     },
     "execution_count": 490,
     "metadata": {},
     "output_type": "execute_result"
    }
   ],
   "source": [
    "deccan_tech.head()"
   ]
  },
  {
   "cell_type": "code",
   "execution_count": 491,
   "id": "ffd76f1a-27d8-4c0f-904b-1b42171a5444",
   "metadata": {},
   "outputs": [
    {
     "data": {
      "text/plain": [
       "0"
      ]
     },
     "execution_count": 491,
     "metadata": {},
     "output_type": "execute_result"
    }
   ],
   "source": [
    "deccan_tech.duplicated().sum()"
   ]
  },
  {
   "cell_type": "code",
   "execution_count": 492,
   "id": "e1255c62-6e91-4024-bda2-51b8c035970e",
   "metadata": {},
   "outputs": [],
   "source": [
    "deccan_tech.rename(columns={'deccan_tech':\"statement\"},inplace=True)"
   ]
  },
  {
   "cell_type": "code",
   "execution_count": 493,
   "id": "ebaa5d59-a941-46d7-b3a5-fd81589379d1",
   "metadata": {},
   "outputs": [],
   "source": [
    "express_tech=pd.read_csv(r\"web_scraped_datasets\\express_tech.csv\")"
   ]
  },
  {
   "cell_type": "code",
   "execution_count": 494,
   "id": "b919b4b8-f864-43d3-bbe3-ab36dd1904c0",
   "metadata": {},
   "outputs": [
    {
     "data": {
      "text/plain": [
       "2"
      ]
     },
     "execution_count": 494,
     "metadata": {},
     "output_type": "execute_result"
    }
   ],
   "source": [
    "express_tech.duplicated().sum()"
   ]
  },
  {
   "cell_type": "code",
   "execution_count": 495,
   "id": "08fe1c35-d516-4b44-8303-1385a3209b4e",
   "metadata": {},
   "outputs": [],
   "source": [
    "express_tech.drop_duplicates(inplace=True)"
   ]
  },
  {
   "cell_type": "code",
   "execution_count": 496,
   "id": "b6c26cbf-5c3c-4325-91f7-a78fa34c41c6",
   "metadata": {},
   "outputs": [],
   "source": [
    "express_tech.rename(columns={'express_tech':\"statement\"},inplace=True)"
   ]
  },
  {
   "cell_type": "code",
   "execution_count": 497,
   "id": "678c9b5b-bb50-4743-9799-8d01d712b3ae",
   "metadata": {},
   "outputs": [],
   "source": [
    "hindu_tech=pd.read_csv(r\"web_scraped_datasets\\hindu_tech.csv\")"
   ]
  },
  {
   "cell_type": "code",
   "execution_count": 498,
   "id": "f64c0251-dae2-4d5a-972f-3377cc228d9e",
   "metadata": {},
   "outputs": [
    {
     "data": {
      "text/html": [
       "<div>\n",
       "<style scoped>\n",
       "    .dataframe tbody tr th:only-of-type {\n",
       "        vertical-align: middle;\n",
       "    }\n",
       "\n",
       "    .dataframe tbody tr th {\n",
       "        vertical-align: top;\n",
       "    }\n",
       "\n",
       "    .dataframe thead th {\n",
       "        text-align: right;\n",
       "    }\n",
       "</style>\n",
       "<table border=\"1\" class=\"dataframe\">\n",
       "  <thead>\n",
       "    <tr style=\"text-align: right;\">\n",
       "      <th></th>\n",
       "      <th>hindu_tech</th>\n",
       "    </tr>\n",
       "  </thead>\n",
       "  <tbody>\n",
       "    <tr>\n",
       "      <th>0</th>\n",
       "      <td>Your download of the top 5 technology stories ...</td>\n",
       "    </tr>\n",
       "    <tr>\n",
       "      <th>1</th>\n",
       "      <td>Humane’s AI Pin will go out of service as HP b...</td>\n",
       "    </tr>\n",
       "    <tr>\n",
       "      <th>2</th>\n",
       "      <td>Milind Soman named as Garmin’s new brand ambas...</td>\n",
       "    </tr>\n",
       "    <tr>\n",
       "      <th>3</th>\n",
       "      <td>Google veteran Wu Yonghui joins ByteDance to l...</td>\n",
       "    </tr>\n",
       "    <tr>\n",
       "      <th>4</th>\n",
       "      <td>Uber Auto moves to cash-only mode to counter s...</td>\n",
       "    </tr>\n",
       "  </tbody>\n",
       "</table>\n",
       "</div>"
      ],
      "text/plain": [
       "                                          hindu_tech\n",
       "0  Your download of the top 5 technology stories ...\n",
       "1  Humane’s AI Pin will go out of service as HP b...\n",
       "2  Milind Soman named as Garmin’s new brand ambas...\n",
       "3  Google veteran Wu Yonghui joins ByteDance to l...\n",
       "4  Uber Auto moves to cash-only mode to counter s..."
      ]
     },
     "execution_count": 498,
     "metadata": {},
     "output_type": "execute_result"
    }
   ],
   "source": [
    "hindu_tech.head()"
   ]
  },
  {
   "cell_type": "code",
   "execution_count": 499,
   "id": "5ee0e4e1-bc89-447e-a92a-9a23a32d43c9",
   "metadata": {},
   "outputs": [
    {
     "data": {
      "text/plain": [
       "7"
      ]
     },
     "execution_count": 499,
     "metadata": {},
     "output_type": "execute_result"
    }
   ],
   "source": [
    "hindu_tech.duplicated().sum()"
   ]
  },
  {
   "cell_type": "code",
   "execution_count": 500,
   "id": "2be4d907-7aa9-48fd-b72e-f5f8d1c60db0",
   "metadata": {},
   "outputs": [],
   "source": [
    "hindu_tech.drop_duplicates(inplace=True)"
   ]
  },
  {
   "cell_type": "code",
   "execution_count": 501,
   "id": "950f2c33-e72c-47b2-b2bd-4ee425a99393",
   "metadata": {},
   "outputs": [],
   "source": [
    "hindu_tech.rename(columns={'hindu_tech':\"statement\"},inplace=True)"
   ]
  },
  {
   "cell_type": "code",
   "execution_count": 502,
   "id": "a870b0c0-e14b-4826-8bef-613ae44543ec",
   "metadata": {},
   "outputs": [],
   "source": [
    "india_tech=pd.read_csv(r\"web_scraped_datasets\\india_tech.csv\")"
   ]
  },
  {
   "cell_type": "code",
   "execution_count": 503,
   "id": "09b087ec-be82-4777-ad20-cf06a340c1e7",
   "metadata": {},
   "outputs": [
    {
     "data": {
      "text/html": [
       "<div>\n",
       "<style scoped>\n",
       "    .dataframe tbody tr th:only-of-type {\n",
       "        vertical-align: middle;\n",
       "    }\n",
       "\n",
       "    .dataframe tbody tr th {\n",
       "        vertical-align: top;\n",
       "    }\n",
       "\n",
       "    .dataframe thead th {\n",
       "        text-align: right;\n",
       "    }\n",
       "</style>\n",
       "<table border=\"1\" class=\"dataframe\">\n",
       "  <thead>\n",
       "    <tr style=\"text-align: right;\">\n",
       "      <th></th>\n",
       "      <th>india_tech</th>\n",
       "    </tr>\n",
       "  </thead>\n",
       "  <tbody>\n",
       "    <tr>\n",
       "      <th>0</th>\n",
       "      <td>Tech Predictions for 2025: AI everything, ever...</td>\n",
       "    </tr>\n",
       "    <tr>\n",
       "      <th>1</th>\n",
       "      <td>Acer doubles down on India with Acerpure: A co...</td>\n",
       "    </tr>\n",
       "    <tr>\n",
       "      <th>2</th>\n",
       "      <td>Beyond code: Microsoft's Charu Srinivasan on m...</td>\n",
       "    </tr>\n",
       "    <tr>\n",
       "      <th>3</th>\n",
       "      <td>Tata Group, Infosys named India’s most valuabl...</td>\n",
       "    </tr>\n",
       "    <tr>\n",
       "      <th>4</th>\n",
       "      <td>IT and cloud investments are on the rise as MS...</td>\n",
       "    </tr>\n",
       "  </tbody>\n",
       "</table>\n",
       "</div>"
      ],
      "text/plain": [
       "                                          india_tech\n",
       "0  Tech Predictions for 2025: AI everything, ever...\n",
       "1  Acer doubles down on India with Acerpure: A co...\n",
       "2  Beyond code: Microsoft's Charu Srinivasan on m...\n",
       "3  Tata Group, Infosys named India’s most valuabl...\n",
       "4  IT and cloud investments are on the rise as MS..."
      ]
     },
     "execution_count": 503,
     "metadata": {},
     "output_type": "execute_result"
    }
   ],
   "source": [
    "india_tech.head()"
   ]
  },
  {
   "cell_type": "code",
   "execution_count": 504,
   "id": "f77327ad-91db-4069-8f93-0c2583b53c10",
   "metadata": {},
   "outputs": [
    {
     "data": {
      "text/plain": [
       "0"
      ]
     },
     "execution_count": 504,
     "metadata": {},
     "output_type": "execute_result"
    }
   ],
   "source": [
    "india_tech.duplicated().sum()"
   ]
  },
  {
   "cell_type": "code",
   "execution_count": 505,
   "id": "e9e68e19-8f7d-4b7f-8778-35e92b8bdfd5",
   "metadata": {},
   "outputs": [],
   "source": [
    "india_tech.rename(columns={'india_tech':\"statement\"},inplace=True)"
   ]
  },
  {
   "cell_type": "code",
   "execution_count": 506,
   "id": "846b2dc0-a46b-4b59-8b02-866f2f70f73e",
   "metadata": {},
   "outputs": [],
   "source": [
    "ndtv_tech=pd.read_csv(r\"web_scraped_datasets\\ndtv_tech.csv\")"
   ]
  },
  {
   "cell_type": "code",
   "execution_count": 507,
   "id": "bb512c09-0deb-49fc-ae6a-90a5a189d41d",
   "metadata": {},
   "outputs": [
    {
     "data": {
      "text/html": [
       "<div>\n",
       "<style scoped>\n",
       "    .dataframe tbody tr th:only-of-type {\n",
       "        vertical-align: middle;\n",
       "    }\n",
       "\n",
       "    .dataframe tbody tr th {\n",
       "        vertical-align: top;\n",
       "    }\n",
       "\n",
       "    .dataframe thead th {\n",
       "        text-align: right;\n",
       "    }\n",
       "</style>\n",
       "<table border=\"1\" class=\"dataframe\">\n",
       "  <thead>\n",
       "    <tr style=\"text-align: right;\">\n",
       "      <th></th>\n",
       "      <th>ndtv_tech</th>\n",
       "    </tr>\n",
       "  </thead>\n",
       "  <tbody>\n",
       "    <tr>\n",
       "      <th>0</th>\n",
       "      <td>Realme P3 Pro First Impressions: Sensible Upgr...</td>\n",
       "    </tr>\n",
       "    <tr>\n",
       "      <th>1</th>\n",
       "      <td>Samsung Galaxy S25 Ultra Review</td>\n",
       "    </tr>\n",
       "    <tr>\n",
       "      <th>2</th>\n",
       "      <td>Asus ExpertBook P5 (P5405) Review: Sleek and S...</td>\n",
       "    </tr>\n",
       "    <tr>\n",
       "      <th>3</th>\n",
       "      <td>CyberPowerPC Game Master 715 Review: A Master ...</td>\n",
       "    </tr>\n",
       "    <tr>\n",
       "      <th>4</th>\n",
       "      <td>POCO X7 Pro Review: A Mid-Range That Does It All?</td>\n",
       "    </tr>\n",
       "  </tbody>\n",
       "</table>\n",
       "</div>"
      ],
      "text/plain": [
       "                                           ndtv_tech\n",
       "0  Realme P3 Pro First Impressions: Sensible Upgr...\n",
       "1                    Samsung Galaxy S25 Ultra Review\n",
       "2  Asus ExpertBook P5 (P5405) Review: Sleek and S...\n",
       "3  CyberPowerPC Game Master 715 Review: A Master ...\n",
       "4  POCO X7 Pro Review: A Mid-Range That Does It All?"
      ]
     },
     "execution_count": 507,
     "metadata": {},
     "output_type": "execute_result"
    }
   ],
   "source": [
    "ndtv_tech.head()"
   ]
  },
  {
   "cell_type": "code",
   "execution_count": 508,
   "id": "eea36594-f930-470b-b430-04331ce27087",
   "metadata": {},
   "outputs": [
    {
     "data": {
      "text/plain": [
       "13"
      ]
     },
     "execution_count": 508,
     "metadata": {},
     "output_type": "execute_result"
    }
   ],
   "source": [
    "ndtv_tech.duplicated().sum()"
   ]
  },
  {
   "cell_type": "code",
   "execution_count": 509,
   "id": "6abca786-740e-47ef-b3e5-33e2f36c712a",
   "metadata": {},
   "outputs": [],
   "source": [
    "ndtv_tech.drop_duplicates(inplace=True)"
   ]
  },
  {
   "cell_type": "code",
   "execution_count": 510,
   "id": "e1569bf9-d57f-41ae-b763-d92dd33a1f0c",
   "metadata": {},
   "outputs": [],
   "source": [
    "ndtv_tech.rename(columns={'ndtv_tech':\"statement\"},inplace=True)"
   ]
  },
  {
   "cell_type": "code",
   "execution_count": 511,
   "id": "5804d21b-3533-4597-991c-e8d4a752eecf",
   "metadata": {},
   "outputs": [],
   "source": [
    "tof_tech=pd.read_csv(r\"web_scraped_datasets\\tof_tech.csv\")"
   ]
  },
  {
   "cell_type": "code",
   "execution_count": 512,
   "id": "d59be992-7b50-446a-b181-f7b062f9540b",
   "metadata": {},
   "outputs": [
    {
     "data": {
      "text/html": [
       "<div>\n",
       "<style scoped>\n",
       "    .dataframe tbody tr th:only-of-type {\n",
       "        vertical-align: middle;\n",
       "    }\n",
       "\n",
       "    .dataframe tbody tr th {\n",
       "        vertical-align: top;\n",
       "    }\n",
       "\n",
       "    .dataframe thead th {\n",
       "        text-align: right;\n",
       "    }\n",
       "</style>\n",
       "<table border=\"1\" class=\"dataframe\">\n",
       "  <thead>\n",
       "    <tr style=\"text-align: right;\">\n",
       "      <th></th>\n",
       "      <th>tof_tech</th>\n",
       "    </tr>\n",
       "  </thead>\n",
       "  <tbody>\n",
       "    <tr>\n",
       "      <th>0</th>\n",
       "      <td>Galaxy S25: Cutting-edge features &amp;amp; unbeat...</td>\n",
       "    </tr>\n",
       "    <tr>\n",
       "      <th>1</th>\n",
       "      <td>Uber is changing its “Auto” model: What this m...</td>\n",
       "    </tr>\n",
       "    <tr>\n",
       "      <th>2</th>\n",
       "      <td>Perplexity AI CEO Aravind Srinivas compliments...</td>\n",
       "    </tr>\n",
       "    <tr>\n",
       "      <th>3</th>\n",
       "      <td>Tesla coming to India: Anand Mahindra says 'wi...</td>\n",
       "    </tr>\n",
       "    <tr>\n",
       "      <th>4</th>\n",
       "      <td>Samsung Galaxy A06 5G with 50MP camera, 5,000 ...</td>\n",
       "    </tr>\n",
       "  </tbody>\n",
       "</table>\n",
       "</div>"
      ],
      "text/plain": [
       "                                            tof_tech\n",
       "0  Galaxy S25: Cutting-edge features &amp; unbeat...\n",
       "1  Uber is changing its “Auto” model: What this m...\n",
       "2  Perplexity AI CEO Aravind Srinivas compliments...\n",
       "3  Tesla coming to India: Anand Mahindra says 'wi...\n",
       "4  Samsung Galaxy A06 5G with 50MP camera, 5,000 ..."
      ]
     },
     "execution_count": 512,
     "metadata": {},
     "output_type": "execute_result"
    }
   ],
   "source": [
    "tof_tech.head()"
   ]
  },
  {
   "cell_type": "code",
   "execution_count": 513,
   "id": "8c075c81-479c-403b-abfb-13f0dee779e5",
   "metadata": {},
   "outputs": [
    {
     "data": {
      "text/plain": [
       "31"
      ]
     },
     "execution_count": 513,
     "metadata": {},
     "output_type": "execute_result"
    }
   ],
   "source": [
    "tof_tech.duplicated().sum()"
   ]
  },
  {
   "cell_type": "code",
   "execution_count": 514,
   "id": "0df3c1d8-c258-44be-a267-11aebcbfa72e",
   "metadata": {},
   "outputs": [],
   "source": [
    "tof_tech.drop_duplicates(inplace=True)"
   ]
  },
  {
   "cell_type": "code",
   "execution_count": 515,
   "id": "b31f4469-05b3-46d3-b9bf-3f83f722f42a",
   "metadata": {},
   "outputs": [],
   "source": [
    "tof_tech.rename(columns={'tof_tech':\"statement\"},inplace=True)"
   ]
  },
  {
   "cell_type": "code",
   "execution_count": 516,
   "id": "01ce0e05-e1a3-44ff-be0b-c3c9c37ee474",
   "metadata": {},
   "outputs": [],
   "source": [
    "df_tech=pd.concat([deccan_tech,express_tech,hindu_tech,india_tech,ndtv_tech,tof_tech])"
   ]
  },
  {
   "cell_type": "code",
   "execution_count": 517,
   "id": "0d099284-f451-4484-ac20-efa9e05528d8",
   "metadata": {},
   "outputs": [],
   "source": [
    "df_tech.reset_index(drop=True,inplace=True)"
   ]
  },
  {
   "cell_type": "code",
   "execution_count": 518,
   "id": "77307500-5d9e-4d37-9fb8-0e75924c242b",
   "metadata": {},
   "outputs": [
    {
     "data": {
      "text/html": [
       "<div>\n",
       "<style scoped>\n",
       "    .dataframe tbody tr th:only-of-type {\n",
       "        vertical-align: middle;\n",
       "    }\n",
       "\n",
       "    .dataframe tbody tr th {\n",
       "        vertical-align: top;\n",
       "    }\n",
       "\n",
       "    .dataframe thead th {\n",
       "        text-align: right;\n",
       "    }\n",
       "</style>\n",
       "<table border=\"1\" class=\"dataframe\">\n",
       "  <thead>\n",
       "    <tr style=\"text-align: right;\">\n",
       "      <th></th>\n",
       "      <th>statement</th>\n",
       "    </tr>\n",
       "  </thead>\n",
       "  <tbody>\n",
       "    <tr>\n",
       "      <th>0</th>\n",
       "      <td>Samsung unveils Galaxy A06 5G in India</td>\n",
       "    </tr>\n",
       "    <tr>\n",
       "      <th>1</th>\n",
       "      <td>Apple to launch new lower-cost iPhone to captu...</td>\n",
       "    </tr>\n",
       "    <tr>\n",
       "      <th>2</th>\n",
       "      <td>Google opens fourth office campus 'Ananta' in ...</td>\n",
       "    </tr>\n",
       "    <tr>\n",
       "      <th>3</th>\n",
       "      <td>All you need to know about Zomato's AI custome...</td>\n",
       "    </tr>\n",
       "    <tr>\n",
       "      <th>4</th>\n",
       "      <td>Nothing Phone (3a) to come with big camera upg...</td>\n",
       "    </tr>\n",
       "    <tr>\n",
       "      <th>...</th>\n",
       "      <td>...</td>\n",
       "    </tr>\n",
       "    <tr>\n",
       "      <th>320</th>\n",
       "      <td>King Legacy codes February 2025: Get freebies ...</td>\n",
       "    </tr>\n",
       "    <tr>\n",
       "      <th>321</th>\n",
       "      <td>Donald Trump jokes on Elon Musk' go-to-work T-...</td>\n",
       "    </tr>\n",
       "    <tr>\n",
       "      <th>322</th>\n",
       "      <td>Facebook founder Mark Zuckerberg sells Meta sh...</td>\n",
       "    </tr>\n",
       "    <tr>\n",
       "      <th>323</th>\n",
       "      <td>Da Hood codes February 2025: Earn cash and kno...</td>\n",
       "    </tr>\n",
       "    <tr>\n",
       "      <th>324</th>\n",
       "      <td>Haze Piece codes February 2025: Free spins gem...</td>\n",
       "    </tr>\n",
       "  </tbody>\n",
       "</table>\n",
       "<p>325 rows × 1 columns</p>\n",
       "</div>"
      ],
      "text/plain": [
       "                                             statement\n",
       "0               Samsung unveils Galaxy A06 5G in India\n",
       "1    Apple to launch new lower-cost iPhone to captu...\n",
       "2    Google opens fourth office campus 'Ananta' in ...\n",
       "3    All you need to know about Zomato's AI custome...\n",
       "4    Nothing Phone (3a) to come with big camera upg...\n",
       "..                                                 ...\n",
       "320  King Legacy codes February 2025: Get freebies ...\n",
       "321  Donald Trump jokes on Elon Musk' go-to-work T-...\n",
       "322  Facebook founder Mark Zuckerberg sells Meta sh...\n",
       "323  Da Hood codes February 2025: Earn cash and kno...\n",
       "324  Haze Piece codes February 2025: Free spins gem...\n",
       "\n",
       "[325 rows x 1 columns]"
      ]
     },
     "execution_count": 518,
     "metadata": {},
     "output_type": "execute_result"
    }
   ],
   "source": [
    "df_tech"
   ]
  },
  {
   "cell_type": "code",
   "execution_count": 519,
   "id": "2c8d313d-0299-4652-a509-fcf5de64a316",
   "metadata": {},
   "outputs": [],
   "source": [
    "df_tech['label']='technology'"
   ]
  },
  {
   "cell_type": "code",
   "execution_count": 520,
   "id": "9334bc6a-dd90-43ef-8bc3-eebb010f11e8",
   "metadata": {},
   "outputs": [
    {
     "data": {
      "text/html": [
       "<div>\n",
       "<style scoped>\n",
       "    .dataframe tbody tr th:only-of-type {\n",
       "        vertical-align: middle;\n",
       "    }\n",
       "\n",
       "    .dataframe tbody tr th {\n",
       "        vertical-align: top;\n",
       "    }\n",
       "\n",
       "    .dataframe thead th {\n",
       "        text-align: right;\n",
       "    }\n",
       "</style>\n",
       "<table border=\"1\" class=\"dataframe\">\n",
       "  <thead>\n",
       "    <tr style=\"text-align: right;\">\n",
       "      <th></th>\n",
       "      <th>statement</th>\n",
       "      <th>label</th>\n",
       "    </tr>\n",
       "  </thead>\n",
       "  <tbody>\n",
       "    <tr>\n",
       "      <th>0</th>\n",
       "      <td>Samsung unveils Galaxy A06 5G in India</td>\n",
       "      <td>technology</td>\n",
       "    </tr>\n",
       "    <tr>\n",
       "      <th>1</th>\n",
       "      <td>Apple to launch new lower-cost iPhone to captu...</td>\n",
       "      <td>technology</td>\n",
       "    </tr>\n",
       "    <tr>\n",
       "      <th>2</th>\n",
       "      <td>Google opens fourth office campus 'Ananta' in ...</td>\n",
       "      <td>technology</td>\n",
       "    </tr>\n",
       "    <tr>\n",
       "      <th>3</th>\n",
       "      <td>All you need to know about Zomato's AI custome...</td>\n",
       "      <td>technology</td>\n",
       "    </tr>\n",
       "    <tr>\n",
       "      <th>4</th>\n",
       "      <td>Nothing Phone (3a) to come with big camera upg...</td>\n",
       "      <td>technology</td>\n",
       "    </tr>\n",
       "  </tbody>\n",
       "</table>\n",
       "</div>"
      ],
      "text/plain": [
       "                                           statement       label\n",
       "0             Samsung unveils Galaxy A06 5G in India  technology\n",
       "1  Apple to launch new lower-cost iPhone to captu...  technology\n",
       "2  Google opens fourth office campus 'Ananta' in ...  technology\n",
       "3  All you need to know about Zomato's AI custome...  technology\n",
       "4  Nothing Phone (3a) to come with big camera upg...  technology"
      ]
     },
     "execution_count": 520,
     "metadata": {},
     "output_type": "execute_result"
    }
   ],
   "source": [
    "df_tech.head()"
   ]
  },
  {
   "cell_type": "code",
   "execution_count": 521,
   "id": "e6aab55f-73a3-4041-bbcd-30f00cc064f5",
   "metadata": {},
   "outputs": [],
   "source": [
    "df=pd.concat([df_bus,df_enter,df_sports,df_tech],axis=0)"
   ]
  },
  {
   "cell_type": "code",
   "execution_count": 522,
   "id": "e0899a9c-0b1c-41f6-9ef8-53ee928c4f6c",
   "metadata": {},
   "outputs": [],
   "source": [
    "df.reset_index(drop=True,inplace=True)"
   ]
  },
  {
   "cell_type": "code",
   "execution_count": 523,
   "id": "13f2773d-d913-4ab1-a3cb-1c93cd0beac9",
   "metadata": {},
   "outputs": [
    {
     "data": {
      "text/html": [
       "<div>\n",
       "<style scoped>\n",
       "    .dataframe tbody tr th:only-of-type {\n",
       "        vertical-align: middle;\n",
       "    }\n",
       "\n",
       "    .dataframe tbody tr th {\n",
       "        vertical-align: top;\n",
       "    }\n",
       "\n",
       "    .dataframe thead th {\n",
       "        text-align: right;\n",
       "    }\n",
       "</style>\n",
       "<table border=\"1\" class=\"dataframe\">\n",
       "  <thead>\n",
       "    <tr style=\"text-align: right;\">\n",
       "      <th></th>\n",
       "      <th>statement</th>\n",
       "      <th>label</th>\n",
       "    </tr>\n",
       "  </thead>\n",
       "  <tbody>\n",
       "    <tr>\n",
       "      <th>0</th>\n",
       "      <td>US reciprocal tariffs on India to have limited...</td>\n",
       "      <td>business</td>\n",
       "    </tr>\n",
       "    <tr>\n",
       "      <th>1</th>\n",
       "      <td>HAL and DIAT forge partnership for advancing a...</td>\n",
       "      <td>business</td>\n",
       "    </tr>\n",
       "    <tr>\n",
       "      <th>2</th>\n",
       "      <td>Google opens fourth office campus 'Ananta' in ...</td>\n",
       "      <td>business</td>\n",
       "    </tr>\n",
       "    <tr>\n",
       "      <th>3</th>\n",
       "      <td>Ola Electric renegotiates registration agency ...</td>\n",
       "      <td>business</td>\n",
       "    </tr>\n",
       "    <tr>\n",
       "      <th>4</th>\n",
       "      <td>Explained | How a Moscow-linked influence camp...</td>\n",
       "      <td>business</td>\n",
       "    </tr>\n",
       "    <tr>\n",
       "      <th>...</th>\n",
       "      <td>...</td>\n",
       "      <td>...</td>\n",
       "    </tr>\n",
       "    <tr>\n",
       "      <th>1160</th>\n",
       "      <td>King Legacy codes February 2025: Get freebies ...</td>\n",
       "      <td>technology</td>\n",
       "    </tr>\n",
       "    <tr>\n",
       "      <th>1161</th>\n",
       "      <td>Donald Trump jokes on Elon Musk' go-to-work T-...</td>\n",
       "      <td>technology</td>\n",
       "    </tr>\n",
       "    <tr>\n",
       "      <th>1162</th>\n",
       "      <td>Facebook founder Mark Zuckerberg sells Meta sh...</td>\n",
       "      <td>technology</td>\n",
       "    </tr>\n",
       "    <tr>\n",
       "      <th>1163</th>\n",
       "      <td>Da Hood codes February 2025: Earn cash and kno...</td>\n",
       "      <td>technology</td>\n",
       "    </tr>\n",
       "    <tr>\n",
       "      <th>1164</th>\n",
       "      <td>Haze Piece codes February 2025: Free spins gem...</td>\n",
       "      <td>technology</td>\n",
       "    </tr>\n",
       "  </tbody>\n",
       "</table>\n",
       "<p>1165 rows × 2 columns</p>\n",
       "</div>"
      ],
      "text/plain": [
       "                                              statement       label\n",
       "0     US reciprocal tariffs on India to have limited...    business\n",
       "1     HAL and DIAT forge partnership for advancing a...    business\n",
       "2     Google opens fourth office campus 'Ananta' in ...    business\n",
       "3     Ola Electric renegotiates registration agency ...    business\n",
       "4     Explained | How a Moscow-linked influence camp...    business\n",
       "...                                                 ...         ...\n",
       "1160  King Legacy codes February 2025: Get freebies ...  technology\n",
       "1161  Donald Trump jokes on Elon Musk' go-to-work T-...  technology\n",
       "1162  Facebook founder Mark Zuckerberg sells Meta sh...  technology\n",
       "1163  Da Hood codes February 2025: Earn cash and kno...  technology\n",
       "1164  Haze Piece codes February 2025: Free spins gem...  technology\n",
       "\n",
       "[1165 rows x 2 columns]"
      ]
     },
     "execution_count": 523,
     "metadata": {},
     "output_type": "execute_result"
    }
   ],
   "source": [
    "df"
   ]
  },
  {
   "cell_type": "code",
   "execution_count": 524,
   "id": "1d37349e-139d-4df0-9eb0-854fcc2ab18d",
   "metadata": {},
   "outputs": [
    {
     "data": {
      "text/plain": [
       "label\n",
       "technology       325\n",
       "sports           295\n",
       "business         277\n",
       "entertainment    268\n",
       "Name: count, dtype: int64"
      ]
     },
     "execution_count": 524,
     "metadata": {},
     "output_type": "execute_result"
    }
   ],
   "source": [
    "df.label.value_counts()"
   ]
  },
  {
   "cell_type": "markdown",
   "id": "8da00658-c960-4123-82bf-3e2adbd9096c",
   "metadata": {},
   "source": [
    "### Data PreProcessing"
   ]
  },
  {
   "cell_type": "code",
   "execution_count": 525,
   "id": "62da1c13-9ff6-4e63-9084-11b119f9a122",
   "metadata": {},
   "outputs": [],
   "source": [
    "def dit(x):\n",
    "    dit={'technology':0,'sports':1,'business':2,'entertainment':3}\n",
    "    return dit[x]"
   ]
  },
  {
   "cell_type": "code",
   "execution_count": 526,
   "id": "8fb2f720-a244-4ce6-b1d6-3659d8a5d54f",
   "metadata": {},
   "outputs": [],
   "source": [
    "df[\"category\"] = df['label'].apply(dit)"
   ]
  },
  {
   "cell_type": "code",
   "execution_count": 527,
   "id": "9470f348-d5d6-43f9-820b-80881752b3a8",
   "metadata": {},
   "outputs": [
    {
     "data": {
      "text/plain": [
       "category\n",
       "0    325\n",
       "1    295\n",
       "2    277\n",
       "3    268\n",
       "Name: count, dtype: int64"
      ]
     },
     "execution_count": 527,
     "metadata": {},
     "output_type": "execute_result"
    }
   ],
   "source": [
    "df[\"category\"].value_counts()"
   ]
  },
  {
   "cell_type": "code",
   "execution_count": 528,
   "id": "a7ee82c3-502a-4342-9474-dd6aeb3f4927",
   "metadata": {},
   "outputs": [],
   "source": [
    "train_df, test_df = train_test_split(df, test_size=0.2, random_state=42)"
   ]
  },
  {
   "cell_type": "code",
   "execution_count": 529,
   "id": "e7a64502-4332-4f3c-8d1b-bdc57234179f",
   "metadata": {},
   "outputs": [
    {
     "name": "stdout",
     "output_type": "stream",
     "text": [
      "<class 'pandas.core.frame.DataFrame'>\n",
      "RangeIndex: 1165 entries, 0 to 1164\n",
      "Data columns (total 3 columns):\n",
      " #   Column     Non-Null Count  Dtype \n",
      "---  ------     --------------  ----- \n",
      " 0   statement  1165 non-null   object\n",
      " 1   label      1165 non-null   object\n",
      " 2   category   1165 non-null   int64 \n",
      "dtypes: int64(1), object(2)\n",
      "memory usage: 27.4+ KB\n"
     ]
    }
   ],
   "source": [
    "df.info()"
   ]
  },
  {
   "cell_type": "code",
   "execution_count": 530,
   "id": "45d2e6f0-cd67-49d2-9879-46ffe1f00f2e",
   "metadata": {},
   "outputs": [
    {
     "name": "stderr",
     "output_type": "stream",
     "text": [
      "[nltk_data] Downloading package punkt to\n",
      "[nltk_data]     C:\\Users\\anush\\AppData\\Roaming\\nltk_data...\n",
      "[nltk_data]   Package punkt is already up-to-date!\n"
     ]
    },
    {
     "data": {
      "text/plain": [
       "True"
      ]
     },
     "execution_count": 530,
     "metadata": {},
     "output_type": "execute_result"
    }
   ],
   "source": [
    "nltk.download(\"punkt\")"
   ]
  },
  {
   "cell_type": "code",
   "execution_count": 531,
   "id": "a6bfd344-419b-47e9-afb5-73c1f21b611d",
   "metadata": {},
   "outputs": [],
   "source": [
    "def preprocess_text(text):\n",
    "    text = text.lower()\n",
    "    text = re.sub(r\"[^a-zA-Z0-9\\s]\", \"\", text)\n",
    "    tokens = word_tokenize(text)\n",
    "    return tokens\n",
    "    \n",
    "train_df[\"tokens\"] = train_df[\"statement\"].apply(preprocess_text)\n",
    "test_df[\"tokens\"] = test_df[\"statement\"].apply(preprocess_text)"
   ]
  },
  {
   "cell_type": "code",
   "execution_count": 532,
   "id": "8007139a-19db-43a3-8148-736e7831681a",
   "metadata": {},
   "outputs": [
    {
     "name": "stdout",
     "output_type": "stream",
     "text": [
      "810     [a, moneyhungry, squirrel, jake, paul, fires, ...\n",
      "533     [is, earths, oxygen, running, out, supercomput...\n",
      "964     [red, magic, 10, pro, vs, cmf, by, nothing, ph...\n",
      "602     [jannik, sinner, doping, ban, wada, defends, s...\n",
      "803     [fih, pro, league, india, women, eye, regainin...\n",
      "                              ...                        \n",
      "1044    [shahid, kapoors, deva, full, movie, leaked, o...\n",
      "1095    [elon, musks, daughter, reacts, to, ashley, st...\n",
      "1130    [we, tried, zotacs, premium, rtx, 5080, card, ...\n",
      "860     [iphone, se, 4th, gen, incoming, apple, ceo, t...\n",
      "1126    [ipad, mini, 2024, review, a, goeverywhere, ta...\n",
      "Name: tokens, Length: 932, dtype: object\n"
     ]
    }
   ],
   "source": [
    "print(train_df[\"tokens\"])"
   ]
  },
  {
   "cell_type": "code",
   "execution_count": 533,
   "id": "10a42114-1879-456d-96ca-5e19e30b49e5",
   "metadata": {},
   "outputs": [
    {
     "name": "stdout",
     "output_type": "stream",
     "text": [
      "[-0.00833422  0.00793392 -0.0052748  -0.0094702  -0.00850319 -0.01394522\n",
      "  0.00993018 -0.01093282 -0.01932033 -0.01004404  0.01521147  0.00081088\n",
      "  0.01100501  0.01808687 -0.0136323  -0.00805847  0.01733622  0.01005145\n",
      "  0.0061674   0.01623581  0.01939922 -0.00337198  0.00687313  0.00884923\n",
      "  0.01914289  0.02020434 -0.01771819 -0.00968043  0.00641165  0.00131485\n",
      "  0.00028025  0.01449897  0.01259527 -0.01394978 -0.00687632 -0.0148074\n",
      "  0.01612199  0.00485984 -0.00307023  0.00087177  0.01719775  0.01390898\n",
      "  0.01243443  0.00639353  0.00808958  0.01767522  0.0019377  -0.00178967\n",
      " -0.01723748  0.00647578]\n"
     ]
    }
   ],
   "source": [
    "w2v_model = Word2Vec(train_df[\"tokens\"].tolist(), vector_size=50, window=5, min_count=1, sg=0)\n",
    "word_vectors = w2v_model.wv\n",
    "print(word_vectors[\"market\"]) "
   ]
  },
  {
   "cell_type": "code",
   "execution_count": 534,
   "id": "96847875-1605-4411-8cff-5a7f9b488776",
   "metadata": {},
   "outputs": [],
   "source": [
    "word_to_ix = {word: i for i, word in enumerate(w2v_model.wv.index_to_key)}\n",
    "def prepare_sequence(tokens, word_to_ix):\n",
    "    return [word_to_ix[word] for word in tokens if word in word_to_ix]"
   ]
  },
  {
   "cell_type": "code",
   "execution_count": 535,
   "id": "bb2d4df9-84db-4cf1-97ac-f137a83336aa",
   "metadata": {},
   "outputs": [],
   "source": [
    "train_df[\"numerical_sequence\"] = train_df[\"tokens\"].apply(lambda x: prepare_sequence(x, word_to_ix))\n",
    "test_df[\"numerical_sequence\"] = test_df[\"tokens\"].apply(lambda x: prepare_sequence(x, word_to_ix))"
   ]
  },
  {
   "cell_type": "markdown",
   "id": "5ac7acda-54bf-4f51-830b-c2afb68ff51f",
   "metadata": {},
   "source": [
    "### Train and Test Splitting"
   ]
  },
  {
   "cell_type": "code",
   "execution_count": 536,
   "id": "b06b0bab-e784-4c9b-bc6f-b9b25b39673d",
   "metadata": {},
   "outputs": [],
   "source": [
    "train_sentences = [torch.tensor(seq, dtype=torch.long) for seq in train_df[\"numerical_sequence\"]]\n",
    "train_labels = torch.tensor(train_df[\"category\"].values, dtype=torch.long)\n",
    "\n",
    "test_sentences = [torch.tensor(seq, dtype=torch.long) for seq in test_df[\"numerical_sequence\"]]\n",
    "test_labels = torch.tensor(test_df[\"category\"].values, dtype=torch.long)"
   ]
  },
  {
   "cell_type": "markdown",
   "id": "4a093c4b-b1a5-4bf5-b084-c741b6ba7764",
   "metadata": {},
   "source": [
    "###  LSTM Model"
   ]
  },
  {
   "cell_type": "code",
   "execution_count": 537,
   "id": "5fb8fb28-d6f3-48ee-bc07-55d521f54d74",
   "metadata": {},
   "outputs": [],
   "source": [
    "\n",
    "\n",
    "class NewsLSTMModel(nn.Module):\n",
    "    def __init__(self, vocab_size, embedding_dim, hidden_dim, output_dim):\n",
    "        super(NewsLSTMModel, self).__init__()\n",
    "        self.embedding = nn.Embedding.from_pretrained(torch.FloatTensor(w2v_model.wv.vectors), freeze=False)\n",
    "        self.lstm = nn.LSTM(embedding_dim, hidden_dim, batch_first=True)\n",
    "        self.dropout=nn.Dropout(0.3)\n",
    "        self.fc = nn.Linear(hidden_dim, output_dim)\n",
    "    \n",
    "    def forward(self, x):\n",
    "        embedded = self.embedding(x) \n",
    "        lstm_out, inner_layers = self.lstm(embedded)\n",
    "        drop=self.dropout(lstm_out[:, -1, :])\n",
    "        output = self.fc(drop)\n",
    "        return output\n"
   ]
  },
  {
   "cell_type": "markdown",
   "id": "bded42b7-fdd4-45f5-84ea-fb119b7db8ff",
   "metadata": {},
   "source": [
    "### Model Training"
   ]
  },
  {
   "cell_type": "code",
   "execution_count": 538,
   "id": "fc683c92-5a9b-41d1-be7c-9e0dbfd34c6e",
   "metadata": {},
   "outputs": [],
   "source": [
    "embedding_dim = 50\n",
    "hidden_dim = 64\n",
    "output_dim = 4"
   ]
  },
  {
   "cell_type": "code",
   "execution_count": 539,
   "id": "8bdddfb3-94f3-4ba1-9992-1b216d028177",
   "metadata": {},
   "outputs": [],
   "source": [
    "model = NewsLSTMModel(vocab_size=len(word_to_ix), embedding_dim=embedding_dim, hidden_dim=hidden_dim, output_dim=output_dim)\n",
    "criterion = nn.CrossEntropyLoss()\n",
    "optimizer = optim.Adam(model.parameters(), lr=0.00002)\n",
    "epochs = 100\n",
    "patience=10\n",
    "best_loss=float('inf')\n",
    "train_losses=[]\n",
    "test_losses=[]"
   ]
  },
  {
   "cell_type": "code",
   "execution_count": 540,
   "id": "16bd9616-90a0-470b-8f07-239c638cedd7",
   "metadata": {},
   "outputs": [
    {
     "name": "stdout",
     "output_type": "stream",
     "text": [
      "Epoch 1/100, Loss: 1.3847,val_loss: 1.3841\n",
      "Epoch 2/100, Loss: 1.3832,val_loss: 1.3837\n",
      "Epoch 3/100, Loss: 1.3835,val_loss: 1.3833\n",
      "Epoch 4/100, Loss: 1.3816,val_loss: 1.3827\n",
      "Epoch 5/100, Loss: 1.3812,val_loss: 1.3820\n",
      "Epoch 6/100, Loss: 1.3786,val_loss: 1.3811\n",
      "Epoch 7/100, Loss: 1.3776,val_loss: 1.3797\n",
      "Epoch 8/100, Loss: 1.3756,val_loss: 1.3777\n",
      "Epoch 9/100, Loss: 1.3696,val_loss: 1.3747\n",
      "Epoch 10/100, Loss: 1.3632,val_loss: 1.3695\n",
      "Epoch 11/100, Loss: 1.3505,val_loss: 1.3592\n",
      "Epoch 12/100, Loss: 1.3169,val_loss: 1.3294\n",
      "Epoch 13/100, Loss: 1.2317,val_loss: 1.2839\n",
      "Epoch 14/100, Loss: 1.1292,val_loss: 1.2215\n",
      "Epoch 15/100, Loss: 1.0337,val_loss: 1.1690\n",
      "Epoch 16/100, Loss: 0.9492,val_loss: 1.1450\n",
      "Epoch 17/100, Loss: 0.8808,val_loss: 1.1179\n",
      "Epoch 18/100, Loss: 0.8230,val_loss: 1.0883\n",
      "Epoch 19/100, Loss: 0.7529,val_loss: 1.0704\n",
      "Epoch 20/100, Loss: 0.6757,val_loss: 1.0455\n",
      "Epoch 21/100, Loss: 0.5843,val_loss: 1.0033\n",
      "Epoch 22/100, Loss: 0.4985,val_loss: 0.9609\n",
      "Epoch 23/100, Loss: 0.4196,val_loss: 0.9229\n",
      "Epoch 24/100, Loss: 0.3536,val_loss: 0.8973\n",
      "Epoch 25/100, Loss: 0.2976,val_loss: 0.8848\n",
      "Epoch 26/100, Loss: 0.2595,val_loss: 0.8800\n",
      "Epoch 27/100, Loss: 0.2280,val_loss: 0.8705\n",
      "Epoch 28/100, Loss: 0.1941,val_loss: 0.8577\n",
      "Epoch 29/100, Loss: 0.1772,val_loss: 0.8645\n",
      "Epoch 30/100, Loss: 0.1579,val_loss: 0.8646\n",
      "Epoch 31/100, Loss: 0.1372,val_loss: 0.8670\n",
      "Epoch 32/100, Loss: 0.1260,val_loss: 0.8759\n",
      "Epoch 33/100, Loss: 0.1183,val_loss: 0.8766\n",
      "Epoch 34/100, Loss: 0.1139,val_loss: 0.8777\n",
      "Epoch 35/100, Loss: 0.1034,val_loss: 0.8725\n",
      "Epoch 36/100, Loss: 0.1051,val_loss: 0.8749\n",
      "Epoch 37/100, Loss: 0.1028,val_loss: 0.8734\n",
      "Early stopping at epoch 38\n"
     ]
    }
   ],
   "source": [
    "for epoch in range(epochs):\n",
    "    total_train_loss = 0\n",
    "    val_loss=0\n",
    "    model.train()\n",
    "    for i, sentence in enumerate(train_sentences):\n",
    "        sentence = sentence.unsqueeze(0)\n",
    "        label = train_labels[i].unsqueeze(0)\n",
    "        \n",
    "        output = model(sentence)\n",
    "        loss = criterion(output, label)\n",
    "        optimizer.zero_grad()\n",
    "        loss.backward()\n",
    "        optimizer.step()\n",
    "        \n",
    "        total_train_loss += loss.item()\n",
    "    train_losses.append(total_train_loss/len(train_sentences))\n",
    "            \n",
    "    with torch.no_grad():\n",
    "        model.eval()\n",
    "        \n",
    "        for i, sentence in enumerate(test_sentences):\n",
    "            sentence = sentence.unsqueeze(0)\n",
    "            test_label = test_labels[i].unsqueeze(0)\n",
    "            test_output = model(sentence)\n",
    "            val_loss+=criterion(test_output,test_label)\n",
    "        \n",
    "        val_loss=val_loss/len(test_sentences)\n",
    "        test_losses.append(val_loss)\n",
    "        \n",
    "        if val_loss < best_loss:\n",
    "            best_loss = val_loss\n",
    "            counter = 0\n",
    "            torch.save(model.state_dict(), 'best_model.pth')\n",
    "        else:\n",
    "            counter += 1\n",
    "            if counter >= patience:\n",
    "                print(f'Early stopping at epoch {epoch+1}')\n",
    "                break\n",
    "\n",
    "         \n",
    "    print(f\"Epoch {epoch+1}/{epochs}, Loss: {total_train_loss/len(train_sentences):.4f},val_loss: {val_loss:.4f}\")\n"
   ]
  },
  {
   "cell_type": "markdown",
   "id": "07d898ba-0f64-431c-b983-982d9779b47d",
   "metadata": {},
   "source": [
    "### Evaluation of Model"
   ]
  },
  {
   "cell_type": "code",
   "execution_count": 541,
   "id": "b17b33db-0c45-488c-a5e8-1207083c3e2d",
   "metadata": {},
   "outputs": [
    {
     "data": {
      "text/plain": [
       "<All keys matched successfully>"
      ]
     },
     "execution_count": 541,
     "metadata": {},
     "output_type": "execute_result"
    }
   ],
   "source": [
    "model.load_state_dict(torch.load('best_model.pth'))"
   ]
  },
  {
   "cell_type": "code",
   "execution_count": 542,
   "id": "a564cbfb-5ad2-42f7-b3e7-c2ad183a68e8",
   "metadata": {},
   "outputs": [
    {
     "name": "stdout",
     "output_type": "stream",
     "text": [
      "Train Accuracy: 0.9807\n"
     ]
    }
   ],
   "source": [
    "y_true = []\n",
    "y_pred = []\n",
    "model.eval()\n",
    "with torch.no_grad():\n",
    "    for i, sentence in enumerate(train_sentences):\n",
    "        sentence = sentence.unsqueeze(0)\n",
    "        output = model(sentence)\n",
    "        predicted_label = torch.argmax(output, dim=1).item()\n",
    "        \n",
    "        y_true.append(train_labels[i].item())\n",
    "        y_pred.append(predicted_label)\n",
    "\n",
    "accuracy = accuracy_score(y_true, y_pred)\n",
    "print(f\"Train Accuracy: {accuracy:.4f}\")"
   ]
  },
  {
   "cell_type": "code",
   "execution_count": 543,
   "id": "92fe5a7e-5461-41eb-b274-a764fb6848e4",
   "metadata": {},
   "outputs": [
    {
     "data": {
      "image/png": "[encoded data removed]",
      "text/plain": [
       "<Figure size 600x600 with 2 Axes>"
      ]
     },
     "metadata": {},
     "output_type": "display_data"
    }
   ],
   "source": [
    "plt.figure(figsize=(6,6))\n",
    "sns.heatmap(confusion_matrix(y_true, y_pred), annot=True, fmt='d', cmap='Blues', xticklabels=['technology','sports','business','entertainment'], yticklabels=['technology','sports','business','entertainment'])\n",
    "plt.xlabel(\"Predicted\")\n",
    "plt.ylabel(\"Actual\")\n",
    "plt.title(\"Confusion Matrix\")\n",
    "plt.show()"
   ]
  },
  {
   "cell_type": "code",
   "execution_count": 544,
   "id": "e606b5fd-b02e-45c9-8a01-e6197dde9f72",
   "metadata": {},
   "outputs": [
    {
     "name": "stdout",
     "output_type": "stream",
     "text": [
      "Train Classification Report:\n",
      "               precision    recall  f1-score   support\n",
      "\n",
      "   technology       0.98      0.99      0.99       260\n",
      "       sports       0.98      0.98      0.98       239\n",
      "     business       0.98      0.98      0.98       220\n",
      "entertainment       0.98      0.97      0.98       213\n",
      "\n",
      "     accuracy                           0.98       932\n",
      "    macro avg       0.98      0.98      0.98       932\n",
      " weighted avg       0.98      0.98      0.98       932\n",
      "\n"
     ]
    }
   ],
   "source": [
    "print(\"Train Classification Report:\")\n",
    "print(classification_report(y_true, y_pred, target_names=['technology','sports','business','entertainment']))"
   ]
  },
  {
   "cell_type": "code",
   "execution_count": 545,
   "id": "f33fe8da-8744-49e1-8a77-713de7c11943",
   "metadata": {},
   "outputs": [
    {
     "name": "stdout",
     "output_type": "stream",
     "text": [
      "Test Accuracy: 0.7382\n"
     ]
    }
   ],
   "source": [
    "y_true = []\n",
    "y_pred = []\n",
    "model.eval()\n",
    "with torch.no_grad():\n",
    "    for i, sentence in enumerate(test_sentences):\n",
    "        sentence = sentence.unsqueeze(0)  # Add batch dimension\n",
    "        output = model(sentence)\n",
    "        predicted_label = torch.argmax(output, dim=1).item()\n",
    "        \n",
    "        y_true.append(test_labels[i].item())\n",
    "        y_pred.append(predicted_label)\n",
    "\n",
    "# Compute accuracy\n",
    "accuracy = accuracy_score(y_true, y_pred)\n",
    "print(f\"Test Accuracy: {accuracy:.4f}\")\n",
    "\n"
   ]
  },
  {
   "cell_type": "code",
   "execution_count": 546,
   "id": "35dcc4fd-0f20-464e-b443-433afbeb89bd",
   "metadata": {},
   "outputs": [
    {
     "data": {
      "image/png": "[encoded data removed]",
      "text/plain": [
       "<Figure size 600x600 with 2 Axes>"
      ]
     },
     "metadata": {},
     "output_type": "display_data"
    }
   ],
   "source": [
    "plt.figure(figsize=(6,6))\n",
    "sns.heatmap(confusion_matrix(y_true, y_pred), annot=True, fmt='d', cmap='Blues', xticklabels=['technology','sports','business','entertainment'], yticklabels=['technology','sports','business','entertainment'])\n",
    "plt.xlabel(\"Predicted\")\n",
    "plt.ylabel(\"Actual\")\n",
    "plt.title(\"Confusion Matrix\")\n",
    "plt.show()"
   ]
  },
  {
   "cell_type": "code",
   "execution_count": 547,
   "id": "891d46b3-ce66-4b33-b485-5b8ce1f67f2a",
   "metadata": {},
   "outputs": [
    {
     "name": "stdout",
     "output_type": "stream",
     "text": [
      "Test Classification Report:\n",
      "               precision    recall  f1-score   support\n",
      "\n",
      "   technology       0.76      0.77      0.76        65\n",
      "       sports       0.86      0.79      0.82        56\n",
      "     business       0.64      0.75      0.69        57\n",
      "entertainment       0.71      0.64      0.67        55\n",
      "\n",
      "     accuracy                           0.74       233\n",
      "    macro avg       0.74      0.74      0.74       233\n",
      " weighted avg       0.74      0.74      0.74       233\n",
      "\n"
     ]
    }
   ],
   "source": [
    "print(\"Test Classification Report:\")\n",
    "print(classification_report(y_true, y_pred, target_names=['technology','sports','business','entertainment']))"
   ]
  },
  {
   "cell_type": "code",
   "execution_count": 548,
   "id": "a91aed94-e84c-4cc3-9267-823fa260e8f0",
   "metadata": {},
   "outputs": [
    {
     "data": {
      "image/png": "[encoded data removed]",
      "text/plain": [
       "<Figure size 640x480 with 1 Axes>"
      ]
     },
     "metadata": {},
     "output_type": "display_data"
    }
   ],
   "source": [
    "plt.plot(train_losses, label='train_losses', color='blue')\n",
    "plt.plot(test_losses, label='test_losses', color='red')\n",
    "plt.xlabel('Epochs')\n",
    "plt.ylabel('Loss')\n",
    "plt.title('Training & Validation Loss')\n",
    "plt.legend()\n",
    "plt.grid()\n",
    "plt.show()"
   ]
  },
  {
   "cell_type": "markdown",
   "id": "b6f0ad88-9640-4d68-a078-935213e57eea",
   "metadata": {},
   "source": [
    "### Sample Testing"
   ]
  },
  {
   "cell_type": "code",
   "execution_count": 549,
   "id": "c5be997e-4993-49ae-8df0-8c9474318c12",
   "metadata": {},
   "outputs": [
    {
     "name": "stdout",
     "output_type": "stream",
     "text": [
      "Predicted Category: business\n"
     ]
    }
   ],
   "source": [
    "d={0:'technology',1:'sports',2:'business',3:'entertainment'}\n",
    "test_text = \"LIC receives ₹57.2 crore GST notice from Delhi Government\"\n",
    "test_tokens = preprocess_text(test_text)\n",
    "test_sequence = prepare_sequence(test_tokens, word_to_ix)\n",
    "test_tensor = torch.tensor(test_sequence, dtype=torch.long).unsqueeze(0)\n",
    "model.eval()\n",
    "with torch.no_grad():\n",
    "    output = model(test_tensor)\n",
    "    predicted_label = torch.argmax(output, dim=1).item()\n",
    "\n",
    "print(\"Predicted Category:\",d[predicted_label])\n"
   ]
  }
 ],
 "metadata": {
  "kernelspec": {
   "display_name": "Python 3 (ipykernel)",
   "language": "python",
   "name": "python3"
  },
  "language_info": {
   "codemirror_mode": {
    "name": "ipython",
    "version": 3
   },
   "file_extension": ".py",
   "mimetype": "text/x-python",
   "name": "python",
   "nbconvert_exporter": "python",
   "pygments_lexer": "ipython3",
   "version": "3.11.5"
  }
 },
 "nbformat": 4,
 "nbformat_minor": 5
}
